{
 "cells": [
  {
   "cell_type": "code",
   "execution_count": 1,
   "metadata": {},
   "outputs": [],
   "source": [
    "# Importing datasets\n",
    "import pandas as pd\n",
    "import numpy as np\n"
   ]
  },
  {
   "cell_type": "code",
   "execution_count": 162,
   "metadata": {},
   "outputs": [],
   "source": [
    "train = pd.read_csv('train.csv', parse_dates=[1])\n",
    "test = pd.read_csv('test.csv', parse_dates=[1])\n",
    "df = train.copy()\n",
    "df_test = test.copy()"
   ]
  },
  {
   "cell_type": "code",
   "execution_count": 153,
   "metadata": {},
   "outputs": [
    {
     "data": {
      "text/html": [
       "<div>\n",
       "<style scoped>\n",
       "    .dataframe tbody tr th:only-of-type {\n",
       "        vertical-align: middle;\n",
       "    }\n",
       "\n",
       "    .dataframe tbody tr th {\n",
       "        vertical-align: top;\n",
       "    }\n",
       "\n",
       "    .dataframe thead th {\n",
       "        text-align: right;\n",
       "    }\n",
       "</style>\n",
       "<table border=\"1\" class=\"dataframe\">\n",
       "  <thead>\n",
       "    <tr style=\"text-align: right;\">\n",
       "      <th></th>\n",
       "      <th>Datetime</th>\n",
       "      <th>Count</th>\n",
       "      <th>c</th>\n",
       "    </tr>\n",
       "  </thead>\n",
       "  <tbody>\n",
       "    <tr>\n",
       "      <th>0</th>\n",
       "      <td>2012-08-25 00:00:00</td>\n",
       "      <td>8</td>\n",
       "      <td>NaN</td>\n",
       "    </tr>\n",
       "    <tr>\n",
       "      <th>1</th>\n",
       "      <td>2012-08-25 01:00:00</td>\n",
       "      <td>2</td>\n",
       "      <td>8.0</td>\n",
       "    </tr>\n",
       "    <tr>\n",
       "      <th>2</th>\n",
       "      <td>2012-08-25 02:00:00</td>\n",
       "      <td>6</td>\n",
       "      <td>2.0</td>\n",
       "    </tr>\n",
       "    <tr>\n",
       "      <th>3</th>\n",
       "      <td>2012-08-25 03:00:00</td>\n",
       "      <td>2</td>\n",
       "      <td>6.0</td>\n",
       "    </tr>\n",
       "    <tr>\n",
       "      <th>4</th>\n",
       "      <td>2012-08-25 04:00:00</td>\n",
       "      <td>2</td>\n",
       "      <td>2.0</td>\n",
       "    </tr>\n",
       "  </tbody>\n",
       "</table>\n",
       "</div>"
      ],
      "text/plain": [
       "             Datetime  Count    c\n",
       "0 2012-08-25 00:00:00      8  NaN\n",
       "1 2012-08-25 01:00:00      2  8.0\n",
       "2 2012-08-25 02:00:00      6  2.0\n",
       "3 2012-08-25 03:00:00      2  6.0\n",
       "4 2012-08-25 04:00:00      2  2.0"
      ]
     },
     "execution_count": 153,
     "metadata": {},
     "output_type": "execute_result"
    }
   ],
   "source": [
    "df.head()"
   ]
  },
  {
   "cell_type": "code",
   "execution_count": 154,
   "metadata": {},
   "outputs": [
    {
     "data": {
      "text/plain": [
       "(5112, 2)"
      ]
     },
     "execution_count": 154,
     "metadata": {},
     "output_type": "execute_result"
    }
   ],
   "source": [
    "df_test.shape"
   ]
  },
  {
   "cell_type": "code",
   "execution_count": 7,
   "metadata": {},
   "outputs": [],
   "source": [
    "df.drop('ID',inplace=True,axis =1)"
   ]
  },
  {
   "cell_type": "code",
   "execution_count": 8,
   "metadata": {},
   "outputs": [
    {
     "data": {
      "text/html": [
       "<div>\n",
       "<style scoped>\n",
       "    .dataframe tbody tr th:only-of-type {\n",
       "        vertical-align: middle;\n",
       "    }\n",
       "\n",
       "    .dataframe tbody tr th {\n",
       "        vertical-align: top;\n",
       "    }\n",
       "\n",
       "    .dataframe thead th {\n",
       "        text-align: right;\n",
       "    }\n",
       "</style>\n",
       "<table border=\"1\" class=\"dataframe\">\n",
       "  <thead>\n",
       "    <tr style=\"text-align: right;\">\n",
       "      <th></th>\n",
       "      <th>Datetime</th>\n",
       "      <th>Count</th>\n",
       "    </tr>\n",
       "  </thead>\n",
       "  <tbody>\n",
       "    <tr>\n",
       "      <th>0</th>\n",
       "      <td>2012-08-25 00:00:00</td>\n",
       "      <td>8</td>\n",
       "    </tr>\n",
       "    <tr>\n",
       "      <th>1</th>\n",
       "      <td>2012-08-25 01:00:00</td>\n",
       "      <td>2</td>\n",
       "    </tr>\n",
       "    <tr>\n",
       "      <th>2</th>\n",
       "      <td>2012-08-25 02:00:00</td>\n",
       "      <td>6</td>\n",
       "    </tr>\n",
       "    <tr>\n",
       "      <th>3</th>\n",
       "      <td>2012-08-25 03:00:00</td>\n",
       "      <td>2</td>\n",
       "    </tr>\n",
       "    <tr>\n",
       "      <th>4</th>\n",
       "      <td>2012-08-25 04:00:00</td>\n",
       "      <td>2</td>\n",
       "    </tr>\n",
       "  </tbody>\n",
       "</table>\n",
       "</div>"
      ],
      "text/plain": [
       "             Datetime  Count\n",
       "0 2012-08-25 00:00:00      8\n",
       "1 2012-08-25 01:00:00      2\n",
       "2 2012-08-25 02:00:00      6\n",
       "3 2012-08-25 03:00:00      2\n",
       "4 2012-08-25 04:00:00      2"
      ]
     },
     "execution_count": 8,
     "metadata": {},
     "output_type": "execute_result"
    }
   ],
   "source": [
    "df.head()"
   ]
  },
  {
   "cell_type": "code",
   "execution_count": 13,
   "metadata": {},
   "outputs": [
    {
     "name": "stdout",
     "output_type": "stream",
     "text": [
      "<class 'pandas.core.frame.DataFrame'>\n",
      "RangeIndex: 18288 entries, 0 to 18287\n",
      "Data columns (total 2 columns):\n",
      " #   Column    Non-Null Count  Dtype         \n",
      "---  ------    --------------  -----         \n",
      " 0   Datetime  18288 non-null  datetime64[ns]\n",
      " 1   Count     18288 non-null  int64         \n",
      "dtypes: datetime64[ns](1), int64(1)\n",
      "memory usage: 285.9 KB\n"
     ]
    }
   ],
   "source": [
    "df.info()"
   ]
  },
  {
   "cell_type": "markdown",
   "metadata": {},
   "source": [
    "### persistence model"
   ]
  },
  {
   "cell_type": "code",
   "execution_count": 163,
   "metadata": {},
   "outputs": [],
   "source": [
    "df['c'] = df['Count'].shift(1)"
   ]
  },
  {
   "cell_type": "code",
   "execution_count": 88,
   "metadata": {},
   "outputs": [
    {
     "data": {
      "text/plain": [
       "18288"
      ]
     },
     "execution_count": 88,
     "metadata": {},
     "output_type": "execute_result"
    }
   ],
   "source": [
    "df.shape[0]"
   ]
  },
  {
   "cell_type": "code",
   "execution_count": 89,
   "metadata": {},
   "outputs": [],
   "source": [
    "train, test = df[1:int(df.shape[0]*0.8)], df[int(df.shape[0]*0.8):]"
   ]
  },
  {
   "cell_type": "code",
   "execution_count": 90,
   "metadata": {},
   "outputs": [
    {
     "data": {
      "text/plain": [
       "((14629, 3), (3658, 3))"
      ]
     },
     "execution_count": 90,
     "metadata": {},
     "output_type": "execute_result"
    }
   ],
   "source": [
    "train.shape,test.shape"
   ]
  },
  {
   "cell_type": "code",
   "execution_count": 91,
   "metadata": {},
   "outputs": [
    {
     "data": {
      "text/html": [
       "<div>\n",
       "<style scoped>\n",
       "    .dataframe tbody tr th:only-of-type {\n",
       "        vertical-align: middle;\n",
       "    }\n",
       "\n",
       "    .dataframe tbody tr th {\n",
       "        vertical-align: top;\n",
       "    }\n",
       "\n",
       "    .dataframe thead th {\n",
       "        text-align: right;\n",
       "    }\n",
       "</style>\n",
       "<table border=\"1\" class=\"dataframe\">\n",
       "  <thead>\n",
       "    <tr style=\"text-align: right;\">\n",
       "      <th></th>\n",
       "      <th>Datetime</th>\n",
       "      <th>Count</th>\n",
       "      <th>c</th>\n",
       "    </tr>\n",
       "  </thead>\n",
       "  <tbody>\n",
       "    <tr>\n",
       "      <th>1</th>\n",
       "      <td>2012-08-25 01:00:00</td>\n",
       "      <td>2</td>\n",
       "      <td>8.0</td>\n",
       "    </tr>\n",
       "    <tr>\n",
       "      <th>2</th>\n",
       "      <td>2012-08-25 02:00:00</td>\n",
       "      <td>6</td>\n",
       "      <td>2.0</td>\n",
       "    </tr>\n",
       "    <tr>\n",
       "      <th>3</th>\n",
       "      <td>2012-08-25 03:00:00</td>\n",
       "      <td>2</td>\n",
       "      <td>6.0</td>\n",
       "    </tr>\n",
       "    <tr>\n",
       "      <th>4</th>\n",
       "      <td>2012-08-25 04:00:00</td>\n",
       "      <td>2</td>\n",
       "      <td>2.0</td>\n",
       "    </tr>\n",
       "    <tr>\n",
       "      <th>5</th>\n",
       "      <td>2012-08-25 05:00:00</td>\n",
       "      <td>2</td>\n",
       "      <td>2.0</td>\n",
       "    </tr>\n",
       "  </tbody>\n",
       "</table>\n",
       "</div>"
      ],
      "text/plain": [
       "             Datetime  Count    c\n",
       "1 2012-08-25 01:00:00      2  8.0\n",
       "2 2012-08-25 02:00:00      6  2.0\n",
       "3 2012-08-25 03:00:00      2  6.0\n",
       "4 2012-08-25 04:00:00      2  2.0\n",
       "5 2012-08-25 05:00:00      2  2.0"
      ]
     },
     "execution_count": 91,
     "metadata": {},
     "output_type": "execute_result"
    }
   ],
   "source": [
    "train.head()"
   ]
  },
  {
   "cell_type": "code",
   "execution_count": 92,
   "metadata": {},
   "outputs": [],
   "source": [
    "train_X, train_y = train['c'], train['Count']\n",
    "test_X, test_y = test['c'], test['Count']"
   ]
  },
  {
   "cell_type": "markdown",
   "metadata": {},
   "source": [
    "#### walk forward validation "
   ]
  },
  {
   "cell_type": "code",
   "execution_count": 93,
   "metadata": {},
   "outputs": [],
   "source": [
    "predictions = test_X.copy()"
   ]
  },
  {
   "cell_type": "code",
   "execution_count": 94,
   "metadata": {},
   "outputs": [
    {
     "name": "stdout",
     "output_type": "stream",
     "text": [
      "14630    206.0\n",
      "14631    204.0\n",
      "14632    172.0\n",
      "14633    184.0\n",
      "14634    124.0\n",
      "         ...  \n",
      "18283    680.0\n",
      "18284    868.0\n",
      "18285    732.0\n",
      "18286    702.0\n",
      "18287    580.0\n",
      "Name: c, Length: 3658, dtype: float64\n",
      "14630    204\n",
      "14631    172\n",
      "14632    184\n",
      "14633    124\n",
      "14634    190\n",
      "        ... \n",
      "18283    868\n",
      "18284    732\n",
      "18285    702\n",
      "18286    580\n",
      "18287    534\n",
      "Name: Count, Length: 3658, dtype: int64\n"
     ]
    }
   ],
   "source": [
    "print(predictions)\n",
    "print(test_y)"
   ]
  },
  {
   "cell_type": "code",
   "execution_count": 110,
   "metadata": {},
   "outputs": [
    {
     "data": {
      "text/plain": [
       "514.0"
      ]
     },
     "execution_count": 110,
     "metadata": {},
     "output_type": "execute_result"
    }
   ],
   "source": [
    "from sklearn.metrics import mean_squared_error\n",
    "mse = mean_squared_error(test_y[0:2], predictions[0:2])\n",
    "mse\n",
    "#mse of first 100 data\n",
    "# mse of this model would be a criterion for other models.. if mse of a model be more than this mse, the modeel wouldnt be efficent. "
   ]
  },
  {
   "cell_type": "code",
   "execution_count": 111,
   "metadata": {},
   "outputs": [],
   "source": [
    "from matplotlib import pyplot as plt"
   ]
  },
  {
   "cell_type": "code",
   "execution_count": 112,
   "metadata": {},
   "outputs": [
    {
     "data": {
      "text/plain": [
       "[<matplotlib.lines.Line2D at 0x2adfb8d5108>]"
      ]
     },
     "execution_count": 112,
     "metadata": {},
     "output_type": "execute_result"
    },
    {
     "data": {
      "image/png": "[encoded data removed]",
      "text/plain": [
       "<Figure size 432x288 with 1 Axes>"
      ]
     },
     "metadata": {
      "needs_background": "light"
     },
     "output_type": "display_data"
    }
   ],
   "source": [
    "plt.plot(test_y[0:100])\n",
    "plt.plot(predictions[0:100],color='red')"
   ]
  },
  {
   "cell_type": "markdown",
   "metadata": {},
   "source": [
    "## auto regression model"
   ]
  },
  {
   "cell_type": "code",
   "execution_count": 113,
   "metadata": {},
   "outputs": [],
   "source": [
    "train, test = df.Count[1:int(df.shape[0]*0.8)], df.Count[int(df.shape[0]*0.8):]"
   ]
  },
  {
   "cell_type": "code",
   "execution_count": 114,
   "metadata": {},
   "outputs": [
    {
     "data": {
      "text/plain": [
       "1    2\n",
       "2    6\n",
       "3    2\n",
       "4    2\n",
       "5    2\n",
       "Name: Count, dtype: int64"
      ]
     },
     "execution_count": 114,
     "metadata": {},
     "output_type": "execute_result"
    }
   ],
   "source": [
    "train.head()"
   ]
  },
  {
   "cell_type": "code",
   "execution_count": 115,
   "metadata": {},
   "outputs": [],
   "source": [
    "from statsmodels.tsa.ar_model import AR"
   ]
  },
  {
   "cell_type": "code",
   "execution_count": 116,
   "metadata": {},
   "outputs": [
    {
     "name": "stderr",
     "output_type": "stream",
     "text": [
      "F:\\Anaconda\\Anaconda3\\lib\\site-packages\\statsmodels\\tsa\\ar_model.py:691: FutureWarning: \n",
      "statsmodels.tsa.AR has been deprecated in favor of statsmodels.tsa.AutoReg and\n",
      "statsmodels.tsa.SARIMAX.\n",
      "\n",
      "AutoReg adds the ability to specify exogenous variables, include time trends,\n",
      "and add seasonal dummies. The AutoReg API differs from AR since the model is\n",
      "treated as immutable, and so the entire specification including the lag\n",
      "length must be specified when creating the model. This change is too\n",
      "substantial to incorporate into the existing AR api. The function\n",
      "ar_select_order performs lag length selection for AutoReg models.\n",
      "\n",
      "AutoReg only estimates parameters using conditional MLE (OLS). Use SARIMAX to\n",
      "estimate ARX and related models using full MLE via the Kalman Filter.\n",
      "\n",
      "To silence this warning and continue using AR until it is removed, use:\n",
      "\n",
      "import warnings\n",
      "warnings.filterwarnings('ignore', 'statsmodels.tsa.ar_model.AR', FutureWarning)\n",
      "\n",
      "  warnings.warn(AR_DEPRECATION_WARN, FutureWarning)\n"
     ]
    }
   ],
   "source": [
    "model = AR(train)\n",
    "model_fit = model.fit()"
   ]
  },
  {
   "cell_type": "code",
   "execution_count": 117,
   "metadata": {},
   "outputs": [
    {
     "data": {
      "text/plain": [
       "42"
      ]
     },
     "execution_count": 117,
     "metadata": {},
     "output_type": "execute_result"
    }
   ],
   "source": [
    "#number of lag values \n",
    "model_fit.k_ar"
   ]
  },
  {
   "cell_type": "code",
   "execution_count": 118,
   "metadata": {},
   "outputs": [
    {
     "data": {
      "text/plain": [
       "const        1.443635\n",
       "L1.Count     0.714994\n",
       "L2.Count     0.140894\n",
       "L3.Count     0.015470\n",
       "L4.Count     0.038366\n",
       "L5.Count     0.022670\n",
       "L6.Count    -0.050786\n",
       "L7.Count    -0.016974\n",
       "L8.Count     0.015791\n",
       "L9.Count    -0.027516\n",
       "L10.Count   -0.004302\n",
       "L11.Count    0.052985\n",
       "L12.Count    0.021718\n",
       "L13.Count   -0.012776\n",
       "L14.Count   -0.011611\n",
       "L15.Count   -0.003702\n",
       "L16.Count   -0.018504\n",
       "L17.Count   -0.022221\n",
       "L18.Count   -0.003718\n",
       "L19.Count    0.042346\n",
       "L20.Count    0.000981\n",
       "L21.Count    0.046979\n",
       "L22.Count    0.049858\n",
       "L23.Count    0.060790\n",
       "L24.Count    0.103202\n",
       "L25.Count   -0.029622\n",
       "L26.Count   -0.057985\n",
       "L27.Count   -0.042304\n",
       "L28.Count   -0.024070\n",
       "L29.Count   -0.015950\n",
       "L30.Count   -0.027984\n",
       "L31.Count   -0.007480\n",
       "L32.Count    0.013335\n",
       "L33.Count    0.001505\n",
       "L34.Count   -0.004249\n",
       "L35.Count    0.007998\n",
       "L36.Count    0.022434\n",
       "L37.Count   -0.000993\n",
       "L38.Count   -0.042829\n",
       "L39.Count   -0.004825\n",
       "L40.Count    0.002422\n",
       "L41.Count   -0.001032\n",
       "L42.Count    0.040534\n",
       "dtype: float64"
      ]
     },
     "execution_count": 118,
     "metadata": {},
     "output_type": "execute_result"
    }
   ],
   "source": [
    "#Coef of lag variables\n",
    "model_fit.params"
   ]
  },
  {
   "cell_type": "code",
   "execution_count": 130,
   "metadata": {},
   "outputs": [],
   "source": [
    "predictions_ar = model_fit.predict(start=len(train), end=len(train)+len(test)-1)"
   ]
  },
  {
   "cell_type": "code",
   "execution_count": 133,
   "metadata": {},
   "outputs": [
    {
     "data": {
      "text/plain": [
       "14630    219.569404\n",
       "14631    219.890327\n",
       "14632    222.337004\n",
       "14633    231.288321\n",
       "14634    230.962741\n",
       "            ...    \n",
       "18283     89.326142\n",
       "18284     89.326142\n",
       "18285     89.326142\n",
       "18286     89.326142\n",
       "18287     89.326142\n",
       "Length: 3658, dtype: float64"
      ]
     },
     "execution_count": 133,
     "metadata": {},
     "output_type": "execute_result"
    }
   ],
   "source": [
    "predictions_ar"
   ]
  },
  {
   "cell_type": "code",
   "execution_count": 134,
   "metadata": {},
   "outputs": [
    {
     "data": {
      "text/plain": [
       "(14630    219.569404\n",
       " 14631    219.890327\n",
       " dtype: float64,\n",
       " 14630    204\n",
       " 14631    172\n",
       " Name: Count, dtype: int64)"
      ]
     },
     "execution_count": 134,
     "metadata": {},
     "output_type": "execute_result"
    }
   ],
   "source": [
    "predictions_autoregression.iloc[0:2],test.iloc[0:2]"
   ]
  },
  {
   "cell_type": "code",
   "execution_count": 136,
   "metadata": {},
   "outputs": [
    {
     "data": {
      "text/plain": [
       "95729.64793098494"
      ]
     },
     "execution_count": 136,
     "metadata": {},
     "output_type": "execute_result"
    }
   ],
   "source": [
    "mse = mean_squared_error(test, predictions_ar)\n",
    "mse"
   ]
  },
  {
   "cell_type": "code",
   "execution_count": 139,
   "metadata": {},
   "outputs": [
    {
     "data": {
      "text/plain": [
       "[<matplotlib.lines.Line2D at 0x2adfa048708>]"
      ]
     },
     "execution_count": 139,
     "metadata": {},
     "output_type": "execute_result"
    },
    {
     "data": {
      "image/png": "[encoded data removed]",
      "text/plain": [
       "<Figure size 432x288 with 1 Axes>"
      ]
     },
     "metadata": {
      "needs_background": "light"
     },
     "output_type": "display_data"
    }
   ],
   "source": [
    "plt.plot(test_y[0:100])\n",
    "plt.plot(predictions_ar[0:100], color='red')\n",
    "#plot of first 100 data compare to real values"
   ]
  },
  {
   "cell_type": "markdown",
   "metadata": {},
   "source": [
    "### walk forward "
   ]
  },
  {
   "cell_type": "code",
   "execution_count": 143,
   "metadata": {},
   "outputs": [
    {
     "name": "stdout",
     "output_type": "stream",
     "text": [
      "219.5694039478371 0\n",
      "208.7500119904072 1\n",
      "185.87282909942854 2\n",
      "196.86287437618296 3\n",
      "147.51370199938702 4\n",
      "200.21312628427742 5\n",
      "238.3283282166324 6\n",
      "246.67414323298564 7\n",
      "210.47327395267743 8\n",
      "218.33576863148377 9\n",
      "200.80111941408626 10\n",
      "168.09896615640224 11\n",
      "130.99470813843604 12\n",
      "96.62519250716102 13\n",
      "194.68272588155378 14\n",
      "137.47749484891992 15\n",
      "119.15868624073623 16\n",
      "111.63544618840616 17\n",
      "124.86542722775286 18\n",
      "142.69922830895106 19\n",
      "129.77338763164286 20\n",
      "156.98038459221303 21\n",
      "187.67083418433828 22\n",
      "208.16263145630796 23\n",
      "203.03830894049855 24\n",
      "187.54065398439556 25\n",
      "181.5362984157996 26\n",
      "200.26955465687553 27\n",
      "185.84382539200232 28\n",
      "214.16364172115397 29\n",
      "262.96495882979394 30\n",
      "316.3061108822137 31\n",
      "287.58253694891715 32\n",
      "272.6708968713926 33\n",
      "281.0064186392609 34\n",
      "201.03777170302723 35\n",
      "182.01061307746173 36\n",
      "161.1568776194425 37\n",
      "122.53786604331336 38\n",
      "96.5804443940069 39\n",
      "95.4963837882649 40\n",
      "114.04343468885945 41\n",
      "120.38086807402915 42\n",
      "153.0032287096751 43\n",
      "213.3111867722295 44\n",
      "259.544924236386 45\n",
      "281.6741577692833 46\n",
      "309.268046068506 47\n",
      "329.4190554573419 48\n",
      "355.2479172732221 49\n",
      "359.0779795006076 50\n",
      "350.0404856456932 51\n",
      "347.3653073321699 52\n",
      "371.2746793512673 53\n",
      "404.5595165096281 54\n",
      "351.04799256137665 55\n",
      "340.4984730707574 56\n",
      "331.49023602082815 57\n",
      "302.7757383670508 58\n",
      "234.4581152328802 59\n",
      "210.91928503933912 60\n",
      "190.34279872510245 61\n",
      "155.09381530542308 62\n",
      "130.4113875619304 63\n",
      "132.49172618452616 64\n",
      "119.1770662209253 65\n",
      "184.9979512179297 66\n",
      "212.89536533469882 67\n",
      "243.32849413517854 68\n",
      "300.60243893465247 69\n",
      "328.900552859379 70\n",
      "329.92922492254866 71\n",
      "313.08164439430317 72\n",
      "331.2316280795196 73\n",
      "349.18776473144317 74\n",
      "342.10527588358246 75\n",
      "320.12346670567024 76\n",
      "322.1558335640254 77\n",
      "330.5786599830805 78\n",
      "325.9404332157147 79\n",
      "427.01660858009564 80\n",
      "406.79305827009154 81\n",
      "315.59736016272615 82\n",
      "269.7182366005184 83\n",
      "208.7358699008488 84\n",
      "171.3084668792375 85\n",
      "133.52840372068601 86\n",
      "153.19161965998643 87\n",
      "110.54847764940165 88\n",
      "148.74462253043686 89\n",
      "171.3213870660041 90\n",
      "224.23640171439536 91\n",
      "258.8102205365626 92\n",
      "315.14489653369685 93\n",
      "351.14007680628833 94\n",
      "339.2261100810038 95\n",
      "303.2337050462323 96\n",
      "362.5292319748478 97\n",
      "349.8442618267677 98\n",
      "321.7571577177577 99\n"
     ]
    }
   ],
   "source": [
    "data = train\n",
    "predict =[]\n",
    "count = 0\n",
    "for t in test[0:100]:\n",
    "    model = AR(data)\n",
    "    model_fit = model.fit()\n",
    "    y = model_fit.predict(start=len(data), end=len(train)+len(test[0:100])-1)\n",
    "    print(y.values[0],count)\n",
    "    count +=1\n",
    "    predict.append(y.values[0])\n",
    "    data = np.append(data, t)\n",
    "    data = pd.Series(data)\n",
    "    \n",
    "#prediction of first 100 data in test with walk forward method"
   ]
  },
  {
   "cell_type": "code",
   "execution_count": 152,
   "metadata": {},
   "outputs": [
    {
     "data": {
      "text/plain": [
       "(219.5694039478371, 204)"
      ]
     },
     "execution_count": 152,
     "metadata": {},
     "output_type": "execute_result"
    }
   ],
   "source": [
    "predict[0],test.iloc[0]"
   ]
  },
  {
   "cell_type": "code",
   "execution_count": 156,
   "metadata": {},
   "outputs": [
    {
     "data": {
      "text/plain": [
       "1606.1019957438618"
      ]
     },
     "execution_count": 156,
     "metadata": {},
     "output_type": "execute_result"
    }
   ],
   "source": [
    "mse = mean_squared_error(test[0:100].values, predict)\n",
    "mse"
   ]
  },
  {
   "cell_type": "code",
   "execution_count": 158,
   "metadata": {},
   "outputs": [
    {
     "data": {
      "text/plain": [
       "[<matplotlib.lines.Line2D at 0x2adf7152d88>]"
      ]
     },
     "execution_count": 158,
     "metadata": {},
     "output_type": "execute_result"
    },
    {
     "data": {
      "image/png": "[encoded data removed]",
      "text/plain": [
       "<Figure size 432x288 with 1 Axes>"
      ]
     },
     "metadata": {
      "needs_background": "light"
     },
     "output_type": "display_data"
    }
   ],
   "source": [
    "plt.plot(test[0:100].values)\n",
    "plt.plot(predict, color ='red')\n"
   ]
  },
  {
   "cell_type": "markdown",
   "metadata": {},
   "source": [
    "### moving average model "
   ]
  },
  {
   "cell_type": "code",
   "execution_count": 164,
   "metadata": {},
   "outputs": [
    {
     "data": {
      "text/html": [
       "<div>\n",
       "<style scoped>\n",
       "    .dataframe tbody tr th:only-of-type {\n",
       "        vertical-align: middle;\n",
       "    }\n",
       "\n",
       "    .dataframe tbody tr th {\n",
       "        vertical-align: top;\n",
       "    }\n",
       "\n",
       "    .dataframe thead th {\n",
       "        text-align: right;\n",
       "    }\n",
       "</style>\n",
       "<table border=\"1\" class=\"dataframe\">\n",
       "  <thead>\n",
       "    <tr style=\"text-align: right;\">\n",
       "      <th></th>\n",
       "      <th>ID</th>\n",
       "      <th>Datetime</th>\n",
       "      <th>Count</th>\n",
       "      <th>c</th>\n",
       "    </tr>\n",
       "  </thead>\n",
       "  <tbody>\n",
       "    <tr>\n",
       "      <th>0</th>\n",
       "      <td>0</td>\n",
       "      <td>2012-08-25 00:00:00</td>\n",
       "      <td>8</td>\n",
       "      <td>NaN</td>\n",
       "    </tr>\n",
       "    <tr>\n",
       "      <th>1</th>\n",
       "      <td>1</td>\n",
       "      <td>2012-08-25 01:00:00</td>\n",
       "      <td>2</td>\n",
       "      <td>8.0</td>\n",
       "    </tr>\n",
       "    <tr>\n",
       "      <th>2</th>\n",
       "      <td>2</td>\n",
       "      <td>2012-08-25 02:00:00</td>\n",
       "      <td>6</td>\n",
       "      <td>2.0</td>\n",
       "    </tr>\n",
       "    <tr>\n",
       "      <th>3</th>\n",
       "      <td>3</td>\n",
       "      <td>2012-08-25 03:00:00</td>\n",
       "      <td>2</td>\n",
       "      <td>6.0</td>\n",
       "    </tr>\n",
       "    <tr>\n",
       "      <th>4</th>\n",
       "      <td>4</td>\n",
       "      <td>2012-08-25 04:00:00</td>\n",
       "      <td>2</td>\n",
       "      <td>2.0</td>\n",
       "    </tr>\n",
       "  </tbody>\n",
       "</table>\n",
       "</div>"
      ],
      "text/plain": [
       "   ID            Datetime  Count    c\n",
       "0   0 2012-08-25 00:00:00      8  NaN\n",
       "1   1 2012-08-25 01:00:00      2  8.0\n",
       "2   2 2012-08-25 02:00:00      6  2.0\n",
       "3   3 2012-08-25 03:00:00      2  6.0\n",
       "4   4 2012-08-25 04:00:00      2  2.0"
      ]
     },
     "execution_count": 164,
     "metadata": {},
     "output_type": "execute_result"
    }
   ],
   "source": [
    "df.head()"
   ]
  },
  {
   "cell_type": "code",
   "execution_count": 165,
   "metadata": {},
   "outputs": [],
   "source": [
    "df['resid'] = df.Count - df.c"
   ]
  },
  {
   "cell_type": "code",
   "execution_count": 166,
   "metadata": {},
   "outputs": [
    {
     "data": {
      "text/html": [
       "<div>\n",
       "<style scoped>\n",
       "    .dataframe tbody tr th:only-of-type {\n",
       "        vertical-align: middle;\n",
       "    }\n",
       "\n",
       "    .dataframe tbody tr th {\n",
       "        vertical-align: top;\n",
       "    }\n",
       "\n",
       "    .dataframe thead th {\n",
       "        text-align: right;\n",
       "    }\n",
       "</style>\n",
       "<table border=\"1\" class=\"dataframe\">\n",
       "  <thead>\n",
       "    <tr style=\"text-align: right;\">\n",
       "      <th></th>\n",
       "      <th>ID</th>\n",
       "      <th>Datetime</th>\n",
       "      <th>Count</th>\n",
       "      <th>c</th>\n",
       "      <th>resid</th>\n",
       "    </tr>\n",
       "  </thead>\n",
       "  <tbody>\n",
       "    <tr>\n",
       "      <th>0</th>\n",
       "      <td>0</td>\n",
       "      <td>2012-08-25 00:00:00</td>\n",
       "      <td>8</td>\n",
       "      <td>NaN</td>\n",
       "      <td>NaN</td>\n",
       "    </tr>\n",
       "    <tr>\n",
       "      <th>1</th>\n",
       "      <td>1</td>\n",
       "      <td>2012-08-25 01:00:00</td>\n",
       "      <td>2</td>\n",
       "      <td>8.0</td>\n",
       "      <td>-6.0</td>\n",
       "    </tr>\n",
       "    <tr>\n",
       "      <th>2</th>\n",
       "      <td>2</td>\n",
       "      <td>2012-08-25 02:00:00</td>\n",
       "      <td>6</td>\n",
       "      <td>2.0</td>\n",
       "      <td>4.0</td>\n",
       "    </tr>\n",
       "    <tr>\n",
       "      <th>3</th>\n",
       "      <td>3</td>\n",
       "      <td>2012-08-25 03:00:00</td>\n",
       "      <td>2</td>\n",
       "      <td>6.0</td>\n",
       "      <td>-4.0</td>\n",
       "    </tr>\n",
       "    <tr>\n",
       "      <th>4</th>\n",
       "      <td>4</td>\n",
       "      <td>2012-08-25 04:00:00</td>\n",
       "      <td>2</td>\n",
       "      <td>2.0</td>\n",
       "      <td>0.0</td>\n",
       "    </tr>\n",
       "  </tbody>\n",
       "</table>\n",
       "</div>"
      ],
      "text/plain": [
       "   ID            Datetime  Count    c  resid\n",
       "0   0 2012-08-25 00:00:00      8  NaN    NaN\n",
       "1   1 2012-08-25 01:00:00      2  8.0   -6.0\n",
       "2   2 2012-08-25 02:00:00      6  2.0    4.0\n",
       "3   3 2012-08-25 03:00:00      2  6.0   -4.0\n",
       "4   4 2012-08-25 04:00:00      2  2.0    0.0"
      ]
     },
     "execution_count": 166,
     "metadata": {},
     "output_type": "execute_result"
    }
   ],
   "source": [
    "df.head()"
   ]
  },
  {
   "cell_type": "code",
   "execution_count": 167,
   "metadata": {},
   "outputs": [],
   "source": [
    "train, test = df.resid[1:int(df.shape[0]*0.8)], df.Count[int(df.shape[0]*0.8):]"
   ]
  },
  {
   "cell_type": "code",
   "execution_count": 168,
   "metadata": {},
   "outputs": [
    {
     "data": {
      "text/plain": [
       "1   -6.0\n",
       "2    4.0\n",
       "3   -4.0\n",
       "4    0.0\n",
       "5    0.0\n",
       "Name: resid, dtype: float64"
      ]
     },
     "execution_count": 168,
     "metadata": {},
     "output_type": "execute_result"
    }
   ],
   "source": [
    "train.head()"
   ]
  },
  {
   "cell_type": "code",
   "execution_count": 169,
   "metadata": {},
   "outputs": [
    {
     "name": "stderr",
     "output_type": "stream",
     "text": [
      "F:\\Anaconda\\Anaconda3\\lib\\site-packages\\statsmodels\\tsa\\ar_model.py:691: FutureWarning: \n",
      "statsmodels.tsa.AR has been deprecated in favor of statsmodels.tsa.AutoReg and\n",
      "statsmodels.tsa.SARIMAX.\n",
      "\n",
      "AutoReg adds the ability to specify exogenous variables, include time trends,\n",
      "and add seasonal dummies. The AutoReg API differs from AR since the model is\n",
      "treated as immutable, and so the entire specification including the lag\n",
      "length must be specified when creating the model. This change is too\n",
      "substantial to incorporate into the existing AR api. The function\n",
      "ar_select_order performs lag length selection for AutoReg models.\n",
      "\n",
      "AutoReg only estimates parameters using conditional MLE (OLS). Use SARIMAX to\n",
      "estimate ARX and related models using full MLE via the Kalman Filter.\n",
      "\n",
      "To silence this warning and continue using AR until it is removed, use:\n",
      "\n",
      "import warnings\n",
      "warnings.filterwarnings('ignore', 'statsmodels.tsa.ar_model.AR', FutureWarning)\n",
      "\n",
      "  warnings.warn(AR_DEPRECATION_WARN, FutureWarning)\n"
     ]
    }
   ],
   "source": [
    "model = AR(train)\n",
    "model_fit = model.fit()"
   ]
  },
  {
   "cell_type": "code",
   "execution_count": 172,
   "metadata": {},
   "outputs": [
    {
     "data": {
      "text/plain": [
       "42"
      ]
     },
     "execution_count": 172,
     "metadata": {},
     "output_type": "execute_result"
    }
   ],
   "source": [
    "model_fit.k_ar"
   ]
  },
  {
   "cell_type": "code",
   "execution_count": 173,
   "metadata": {},
   "outputs": [
    {
     "data": {
      "text/plain": [
       "const        0.051986\n",
       "L1.resid    -0.284713\n",
       "L2.resid    -0.143025\n",
       "L3.resid    -0.127246\n",
       "L4.resid    -0.088258\n",
       "L5.resid    -0.063212\n",
       "L6.resid    -0.113799\n",
       "L7.resid    -0.131666\n",
       "L8.resid    -0.115936\n",
       "L9.resid    -0.142904\n",
       "L10.resid   -0.146821\n",
       "L11.resid   -0.094152\n",
       "L12.resid   -0.071745\n",
       "L13.resid   -0.082929\n",
       "L14.resid   -0.093575\n",
       "L15.resid   -0.095932\n",
       "L16.resid   -0.112117\n",
       "L17.resid   -0.131398\n",
       "L18.resid   -0.133629\n",
       "L19.resid   -0.096455\n",
       "L20.resid   -0.098336\n",
       "L21.resid   -0.053668\n",
       "L22.resid   -0.005876\n",
       "L23.resid    0.055121\n",
       "L24.resid    0.156283\n",
       "L25.resid    0.126832\n",
       "L26.resid    0.069945\n",
       "L27.resid    0.028655\n",
       "L28.resid    0.004964\n",
       "L29.resid   -0.010220\n",
       "L30.resid   -0.037346\n",
       "L31.resid   -0.045594\n",
       "L32.resid   -0.034610\n",
       "L33.resid   -0.032466\n",
       "L34.resid   -0.035061\n",
       "L35.resid   -0.027469\n",
       "L36.resid   -0.003858\n",
       "L37.resid   -0.001962\n",
       "L38.resid   -0.045796\n",
       "L39.resid   -0.052232\n",
       "L40.resid   -0.050263\n",
       "L41.resid   -0.057840\n",
       "L42.resid   -0.051949\n",
       "dtype: float64"
      ]
     },
     "execution_count": 173,
     "metadata": {},
     "output_type": "execute_result"
    }
   ],
   "source": [
    "model_fit.params"
   ]
  },
  {
   "cell_type": "code",
   "execution_count": 174,
   "metadata": {},
   "outputs": [],
   "source": [
    "pred_resid = model_fit.predict(start=len(train), end=len(train)+len(test)-1)"
   ]
  },
  {
   "cell_type": "code",
   "execution_count": 175,
   "metadata": {},
   "outputs": [
    {
     "data": {
      "text/plain": [
       "14630    15.690801\n",
       "14631     5.560292\n",
       "14632     3.709138\n",
       "14633     8.067949\n",
       "14634     6.211054\n",
       "           ...    \n",
       "18283     0.014972\n",
       "18284     0.014972\n",
       "18285     0.014972\n",
       "18286     0.014972\n",
       "18287     0.014972\n",
       "Length: 3658, dtype: float64"
      ]
     },
     "execution_count": 175,
     "metadata": {},
     "output_type": "execute_result"
    }
   ],
   "source": [
    "pred_resid"
   ]
  },
  {
   "cell_type": "code",
   "execution_count": 179,
   "metadata": {},
   "outputs": [],
   "source": [
    "predictions_resid = df.c[int(df.shape[0]*0.8):] + pred_resid"
   ]
  },
  {
   "cell_type": "code",
   "execution_count": 185,
   "metadata": {},
   "outputs": [
    {
     "data": {
      "text/plain": [
       "(175.70913845202233, 184)"
      ]
     },
     "execution_count": 185,
     "metadata": {},
     "output_type": "execute_result"
    }
   ],
   "source": [
    "predictions_resid.iloc[2],test.iloc[2]"
   ]
  },
  {
   "cell_type": "code",
   "execution_count": 189,
   "metadata": {},
   "outputs": [
    {
     "data": {
      "text/plain": [
       "1979.1738960228604"
      ]
     },
     "execution_count": 189,
     "metadata": {},
     "output_type": "execute_result"
    }
   ],
   "source": [
    "mse = mean_squared_error(test[0:100], predictions_resid[0:100])\n",
    "mse"
   ]
  },
  {
   "cell_type": "code",
   "execution_count": 190,
   "metadata": {},
   "outputs": [
    {
     "data": {
      "text/plain": [
       "[<matplotlib.lines.Line2D at 0x2adfa111c88>]"
      ]
     },
     "execution_count": 190,
     "metadata": {},
     "output_type": "execute_result"
    },
    {
     "data": {
      "image/png": "[encoded data removed]",
      "text/plain": [
       "<Figure size 432x288 with 1 Axes>"
      ]
     },
     "metadata": {
      "needs_background": "light"
     },
     "output_type": "display_data"
    }
   ],
   "source": [
    "plt.plot(test[0:100])\n",
    "plt.plot(predictions_resid[0:100], color='red')"
   ]
  },
  {
   "cell_type": "markdown",
   "metadata": {},
   "source": [
    "# Arima model"
   ]
  },
  {
   "cell_type": "code",
   "execution_count": null,
   "metadata": {},
   "outputs": [],
   "source": []
  }
 ],
 "metadata": {
  "kernelspec": {
   "display_name": "Python 3",
   "language": "python",
   "name": "python3"
  },
  "language_info": {
   "codemirror_mode": {
    "name": "ipython",
    "version": 3
   },
   "file_extension": ".py",
   "mimetype": "text/x-python",
   "name": "python",
   "nbconvert_exporter": "python",
   "pygments_lexer": "ipython3",
   "version": "3.7.6"
  }
 },
 "nbformat": 4,
 "nbformat_minor": 4
}
