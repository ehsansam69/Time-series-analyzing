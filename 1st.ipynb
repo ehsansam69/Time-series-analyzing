{
 "cells": [
  {
   "cell_type": "code",
   "execution_count": 1,
   "metadata": {},
   "outputs": [],
   "source": [
    "# Importing datasets\n",
    "import pandas as pd\n",
    "import numpy as np\n"
   ]
  },
  {
   "cell_type": "code",
   "execution_count": 49,
   "metadata": {},
   "outputs": [],
   "source": [
    "train = pd.read_csv('train.csv', parse_dates=[1])\n",
    "test = pd.read_csv('test.csv', parse_dates=[1])\n",
    "df = train.copy()\n",
    "df_test = test.copy()"
   ]
  },
  {
   "cell_type": "code",
   "execution_count": 54,
   "metadata": {},
   "outputs": [
    {
     "data": {
      "text/html": [
       "<div>\n",
       "<style scoped>\n",
       "    .dataframe tbody tr th:only-of-type {\n",
       "        vertical-align: middle;\n",
       "    }\n",
       "\n",
       "    .dataframe tbody tr th {\n",
       "        vertical-align: top;\n",
       "    }\n",
       "\n",
       "    .dataframe thead th {\n",
       "        text-align: right;\n",
       "    }\n",
       "</style>\n",
       "<table border=\"1\" class=\"dataframe\">\n",
       "  <thead>\n",
       "    <tr style=\"text-align: right;\">\n",
       "      <th></th>\n",
       "      <th>ID</th>\n",
       "      <th>Datetime</th>\n",
       "    </tr>\n",
       "  </thead>\n",
       "  <tbody>\n",
       "    <tr>\n",
       "      <th>0</th>\n",
       "      <td>18288</td>\n",
       "      <td>2014-09-26 00:00:00</td>\n",
       "    </tr>\n",
       "    <tr>\n",
       "      <th>1</th>\n",
       "      <td>18289</td>\n",
       "      <td>2014-09-26 01:00:00</td>\n",
       "    </tr>\n",
       "    <tr>\n",
       "      <th>2</th>\n",
       "      <td>18290</td>\n",
       "      <td>2014-09-26 02:00:00</td>\n",
       "    </tr>\n",
       "    <tr>\n",
       "      <th>3</th>\n",
       "      <td>18291</td>\n",
       "      <td>2014-09-26 03:00:00</td>\n",
       "    </tr>\n",
       "    <tr>\n",
       "      <th>4</th>\n",
       "      <td>18292</td>\n",
       "      <td>2014-09-26 04:00:00</td>\n",
       "    </tr>\n",
       "    <tr>\n",
       "      <th>...</th>\n",
       "      <td>...</td>\n",
       "      <td>...</td>\n",
       "    </tr>\n",
       "    <tr>\n",
       "      <th>5107</th>\n",
       "      <td>23395</td>\n",
       "      <td>2015-04-26 19:00:00</td>\n",
       "    </tr>\n",
       "    <tr>\n",
       "      <th>5108</th>\n",
       "      <td>23396</td>\n",
       "      <td>2015-04-26 20:00:00</td>\n",
       "    </tr>\n",
       "    <tr>\n",
       "      <th>5109</th>\n",
       "      <td>23397</td>\n",
       "      <td>2015-04-26 21:00:00</td>\n",
       "    </tr>\n",
       "    <tr>\n",
       "      <th>5110</th>\n",
       "      <td>23398</td>\n",
       "      <td>2015-04-26 22:00:00</td>\n",
       "    </tr>\n",
       "    <tr>\n",
       "      <th>5111</th>\n",
       "      <td>23399</td>\n",
       "      <td>2015-04-26 23:00:00</td>\n",
       "    </tr>\n",
       "  </tbody>\n",
       "</table>\n",
       "<p>5112 rows × 2 columns</p>\n",
       "</div>"
      ],
      "text/plain": [
       "         ID            Datetime\n",
       "0     18288 2014-09-26 00:00:00\n",
       "1     18289 2014-09-26 01:00:00\n",
       "2     18290 2014-09-26 02:00:00\n",
       "3     18291 2014-09-26 03:00:00\n",
       "4     18292 2014-09-26 04:00:00\n",
       "...     ...                 ...\n",
       "5107  23395 2015-04-26 19:00:00\n",
       "5108  23396 2015-04-26 20:00:00\n",
       "5109  23397 2015-04-26 21:00:00\n",
       "5110  23398 2015-04-26 22:00:00\n",
       "5111  23399 2015-04-26 23:00:00\n",
       "\n",
       "[5112 rows x 2 columns]"
      ]
     },
     "execution_count": 54,
     "metadata": {},
     "output_type": "execute_result"
    }
   ],
   "source": [
    "df_test"
   ]
  },
  {
   "cell_type": "code",
   "execution_count": 3,
   "metadata": {},
   "outputs": [
    {
     "data": {
      "text/html": [
       "<div>\n",
       "<style scoped>\n",
       "    .dataframe tbody tr th:only-of-type {\n",
       "        vertical-align: middle;\n",
       "    }\n",
       "\n",
       "    .dataframe tbody tr th {\n",
       "        vertical-align: top;\n",
       "    }\n",
       "\n",
       "    .dataframe thead th {\n",
       "        text-align: right;\n",
       "    }\n",
       "</style>\n",
       "<table border=\"1\" class=\"dataframe\">\n",
       "  <thead>\n",
       "    <tr style=\"text-align: right;\">\n",
       "      <th></th>\n",
       "      <th>ID</th>\n",
       "      <th>Datetime</th>\n",
       "      <th>Count</th>\n",
       "    </tr>\n",
       "  </thead>\n",
       "  <tbody>\n",
       "    <tr>\n",
       "      <th>0</th>\n",
       "      <td>0</td>\n",
       "      <td>2012-08-25 00:00:00</td>\n",
       "      <td>8</td>\n",
       "    </tr>\n",
       "    <tr>\n",
       "      <th>1</th>\n",
       "      <td>1</td>\n",
       "      <td>2012-08-25 01:00:00</td>\n",
       "      <td>2</td>\n",
       "    </tr>\n",
       "    <tr>\n",
       "      <th>2</th>\n",
       "      <td>2</td>\n",
       "      <td>2012-08-25 02:00:00</td>\n",
       "      <td>6</td>\n",
       "    </tr>\n",
       "    <tr>\n",
       "      <th>3</th>\n",
       "      <td>3</td>\n",
       "      <td>2012-08-25 03:00:00</td>\n",
       "      <td>2</td>\n",
       "    </tr>\n",
       "    <tr>\n",
       "      <th>4</th>\n",
       "      <td>4</td>\n",
       "      <td>2012-08-25 04:00:00</td>\n",
       "      <td>2</td>\n",
       "    </tr>\n",
       "  </tbody>\n",
       "</table>\n",
       "</div>"
      ],
      "text/plain": [
       "   ID            Datetime  Count\n",
       "0   0 2012-08-25 00:00:00      8\n",
       "1   1 2012-08-25 01:00:00      2\n",
       "2   2 2012-08-25 02:00:00      6\n",
       "3   3 2012-08-25 03:00:00      2\n",
       "4   4 2012-08-25 04:00:00      2"
      ]
     },
     "execution_count": 3,
     "metadata": {},
     "output_type": "execute_result"
    }
   ],
   "source": [
    "df.head()"
   ]
  },
  {
   "cell_type": "code",
   "execution_count": 4,
   "metadata": {},
   "outputs": [
    {
     "data": {
      "text/plain": [
       "(5112, 2)"
      ]
     },
     "execution_count": 4,
     "metadata": {},
     "output_type": "execute_result"
    }
   ],
   "source": [
    "df_test.shape"
   ]
  },
  {
   "cell_type": "code",
   "execution_count": 5,
   "metadata": {},
   "outputs": [],
   "source": [
    "df.drop('ID',inplace=True,axis =1)"
   ]
  },
  {
   "cell_type": "code",
   "execution_count": 6,
   "metadata": {},
   "outputs": [
    {
     "data": {
      "text/html": [
       "<div>\n",
       "<style scoped>\n",
       "    .dataframe tbody tr th:only-of-type {\n",
       "        vertical-align: middle;\n",
       "    }\n",
       "\n",
       "    .dataframe tbody tr th {\n",
       "        vertical-align: top;\n",
       "    }\n",
       "\n",
       "    .dataframe thead th {\n",
       "        text-align: right;\n",
       "    }\n",
       "</style>\n",
       "<table border=\"1\" class=\"dataframe\">\n",
       "  <thead>\n",
       "    <tr style=\"text-align: right;\">\n",
       "      <th></th>\n",
       "      <th>Datetime</th>\n",
       "      <th>Count</th>\n",
       "    </tr>\n",
       "  </thead>\n",
       "  <tbody>\n",
       "    <tr>\n",
       "      <th>0</th>\n",
       "      <td>2012-08-25 00:00:00</td>\n",
       "      <td>8</td>\n",
       "    </tr>\n",
       "    <tr>\n",
       "      <th>1</th>\n",
       "      <td>2012-08-25 01:00:00</td>\n",
       "      <td>2</td>\n",
       "    </tr>\n",
       "    <tr>\n",
       "      <th>2</th>\n",
       "      <td>2012-08-25 02:00:00</td>\n",
       "      <td>6</td>\n",
       "    </tr>\n",
       "    <tr>\n",
       "      <th>3</th>\n",
       "      <td>2012-08-25 03:00:00</td>\n",
       "      <td>2</td>\n",
       "    </tr>\n",
       "    <tr>\n",
       "      <th>4</th>\n",
       "      <td>2012-08-25 04:00:00</td>\n",
       "      <td>2</td>\n",
       "    </tr>\n",
       "  </tbody>\n",
       "</table>\n",
       "</div>"
      ],
      "text/plain": [
       "             Datetime  Count\n",
       "0 2012-08-25 00:00:00      8\n",
       "1 2012-08-25 01:00:00      2\n",
       "2 2012-08-25 02:00:00      6\n",
       "3 2012-08-25 03:00:00      2\n",
       "4 2012-08-25 04:00:00      2"
      ]
     },
     "execution_count": 6,
     "metadata": {},
     "output_type": "execute_result"
    }
   ],
   "source": [
    "df.head()"
   ]
  },
  {
   "cell_type": "code",
   "execution_count": 7,
   "metadata": {},
   "outputs": [
    {
     "name": "stdout",
     "output_type": "stream",
     "text": [
      "<class 'pandas.core.frame.DataFrame'>\n",
      "RangeIndex: 18288 entries, 0 to 18287\n",
      "Data columns (total 2 columns):\n",
      " #   Column    Non-Null Count  Dtype         \n",
      "---  ------    --------------  -----         \n",
      " 0   Datetime  18288 non-null  datetime64[ns]\n",
      " 1   Count     18288 non-null  int64         \n",
      "dtypes: datetime64[ns](1), int64(1)\n",
      "memory usage: 285.9 KB\n"
     ]
    }
   ],
   "source": [
    "df.info()"
   ]
  },
  {
   "cell_type": "markdown",
   "metadata": {},
   "source": [
    "### persistence model"
   ]
  },
  {
   "cell_type": "code",
   "execution_count": 62,
   "metadata": {},
   "outputs": [],
   "source": [
    "df['c'] = df['Count'].shift(1)"
   ]
  },
  {
   "cell_type": "code",
   "execution_count": 63,
   "metadata": {},
   "outputs": [
    {
     "data": {
      "text/plain": [
       "18288"
      ]
     },
     "execution_count": 63,
     "metadata": {},
     "output_type": "execute_result"
    }
   ],
   "source": [
    "df.shape[0]"
   ]
  },
  {
   "cell_type": "code",
   "execution_count": 64,
   "metadata": {},
   "outputs": [],
   "source": [
    "train, test = df[1:int(df.shape[0]*0.8)], df[int(df.shape[0]*0.8):]"
   ]
  },
  {
   "cell_type": "code",
   "execution_count": 65,
   "metadata": {},
   "outputs": [
    {
     "data": {
      "text/plain": [
       "((14629, 4), (3658, 4))"
      ]
     },
     "execution_count": 65,
     "metadata": {},
     "output_type": "execute_result"
    }
   ],
   "source": [
    "train.shape,test.shape"
   ]
  },
  {
   "cell_type": "code",
   "execution_count": 66,
   "metadata": {},
   "outputs": [
    {
     "data": {
      "text/html": [
       "<div>\n",
       "<style scoped>\n",
       "    .dataframe tbody tr th:only-of-type {\n",
       "        vertical-align: middle;\n",
       "    }\n",
       "\n",
       "    .dataframe tbody tr th {\n",
       "        vertical-align: top;\n",
       "    }\n",
       "\n",
       "    .dataframe thead th {\n",
       "        text-align: right;\n",
       "    }\n",
       "</style>\n",
       "<table border=\"1\" class=\"dataframe\">\n",
       "  <thead>\n",
       "    <tr style=\"text-align: right;\">\n",
       "      <th></th>\n",
       "      <th>ID</th>\n",
       "      <th>Datetime</th>\n",
       "      <th>Count</th>\n",
       "      <th>c</th>\n",
       "    </tr>\n",
       "  </thead>\n",
       "  <tbody>\n",
       "    <tr>\n",
       "      <th>1</th>\n",
       "      <td>1</td>\n",
       "      <td>2012-08-25 01:00:00</td>\n",
       "      <td>2</td>\n",
       "      <td>8.0</td>\n",
       "    </tr>\n",
       "    <tr>\n",
       "      <th>2</th>\n",
       "      <td>2</td>\n",
       "      <td>2012-08-25 02:00:00</td>\n",
       "      <td>6</td>\n",
       "      <td>2.0</td>\n",
       "    </tr>\n",
       "    <tr>\n",
       "      <th>3</th>\n",
       "      <td>3</td>\n",
       "      <td>2012-08-25 03:00:00</td>\n",
       "      <td>2</td>\n",
       "      <td>6.0</td>\n",
       "    </tr>\n",
       "    <tr>\n",
       "      <th>4</th>\n",
       "      <td>4</td>\n",
       "      <td>2012-08-25 04:00:00</td>\n",
       "      <td>2</td>\n",
       "      <td>2.0</td>\n",
       "    </tr>\n",
       "    <tr>\n",
       "      <th>5</th>\n",
       "      <td>5</td>\n",
       "      <td>2012-08-25 05:00:00</td>\n",
       "      <td>2</td>\n",
       "      <td>2.0</td>\n",
       "    </tr>\n",
       "  </tbody>\n",
       "</table>\n",
       "</div>"
      ],
      "text/plain": [
       "   ID            Datetime  Count    c\n",
       "1   1 2012-08-25 01:00:00      2  8.0\n",
       "2   2 2012-08-25 02:00:00      6  2.0\n",
       "3   3 2012-08-25 03:00:00      2  6.0\n",
       "4   4 2012-08-25 04:00:00      2  2.0\n",
       "5   5 2012-08-25 05:00:00      2  2.0"
      ]
     },
     "execution_count": 66,
     "metadata": {},
     "output_type": "execute_result"
    }
   ],
   "source": [
    "train.head()"
   ]
  },
  {
   "cell_type": "code",
   "execution_count": 67,
   "metadata": {},
   "outputs": [],
   "source": [
    "train_X, train_y = train['c'], train['Count']\n",
    "test_X, test_y = test['c'], test['Count']"
   ]
  },
  {
   "cell_type": "markdown",
   "metadata": {},
   "source": [
    "#### walk forward validation "
   ]
  },
  {
   "cell_type": "code",
   "execution_count": 68,
   "metadata": {},
   "outputs": [],
   "source": [
    "predictions = test_X.copy()"
   ]
  },
  {
   "cell_type": "code",
   "execution_count": 69,
   "metadata": {},
   "outputs": [
    {
     "name": "stdout",
     "output_type": "stream",
     "text": [
      "14630    206.0\n",
      "14631    204.0\n",
      "14632    172.0\n",
      "14633    184.0\n",
      "14634    124.0\n",
      "         ...  \n",
      "18283    680.0\n",
      "18284    868.0\n",
      "18285    732.0\n",
      "18286    702.0\n",
      "18287    580.0\n",
      "Name: c, Length: 3658, dtype: float64\n",
      "14630    204\n",
      "14631    172\n",
      "14632    184\n",
      "14633    124\n",
      "14634    190\n",
      "        ... \n",
      "18283    868\n",
      "18284    732\n",
      "18285    702\n",
      "18286    580\n",
      "18287    534\n",
      "Name: Count, Length: 3658, dtype: int64\n"
     ]
    }
   ],
   "source": [
    "print(predictions)\n",
    "print(test_y)"
   ]
  },
  {
   "cell_type": "code",
   "execution_count": 70,
   "metadata": {},
   "outputs": [
    {
     "data": {
      "text/plain": [
       "514.0"
      ]
     },
     "execution_count": 70,
     "metadata": {},
     "output_type": "execute_result"
    }
   ],
   "source": [
    "from sklearn.metrics import mean_squared_error\n",
    "mse = mean_squared_error(test_y[0:2], predictions[0:2])\n",
    "mse\n",
    "#mse of first 100 data\n",
    "# mse of this model would be a criterion for other models.. if mse of a model be more than this mse, the modeel wouldnt be efficent. "
   ]
  },
  {
   "cell_type": "code",
   "execution_count": 71,
   "metadata": {},
   "outputs": [],
   "source": [
    "from matplotlib import pyplot as plt"
   ]
  },
  {
   "cell_type": "code",
   "execution_count": 72,
   "metadata": {},
   "outputs": [
    {
     "data": {
      "text/plain": [
       "[<matplotlib.lines.Line2D at 0x2872a773748>]"
      ]
     },
     "execution_count": 72,
     "metadata": {},
     "output_type": "execute_result"
    },
    {
     "data": {
      "image/png": "[encoded data removed]",
      "text/plain": [
       "<Figure size 432x288 with 1 Axes>"
      ]
     },
     "metadata": {
      "needs_background": "light"
     },
     "output_type": "display_data"
    }
   ],
   "source": [
    "plt.plot(test_y[0:100])\n",
    "plt.plot(predictions[0:100],color='red')"
   ]
  },
  {
   "cell_type": "markdown",
   "metadata": {},
   "source": [
    "## auto regression model"
   ]
  },
  {
   "cell_type": "code",
   "execution_count": 116,
   "metadata": {},
   "outputs": [],
   "source": [
    "train, test = df.Count[1:int(df.shape[0]*0.8)], df.Count[int(df.shape[0]*0.8):]"
   ]
  },
  {
   "cell_type": "code",
   "execution_count": 117,
   "metadata": {},
   "outputs": [
    {
     "data": {
      "text/plain": [
       "1    2\n",
       "2    6\n",
       "3    2\n",
       "4    2\n",
       "5    2\n",
       "Name: Count, dtype: int64"
      ]
     },
     "execution_count": 117,
     "metadata": {},
     "output_type": "execute_result"
    }
   ],
   "source": [
    "train.head()"
   ]
  },
  {
   "cell_type": "code",
   "execution_count": 118,
   "metadata": {},
   "outputs": [],
   "source": [
    "from statsmodels.tsa.ar_model import AR"
   ]
  },
  {
   "cell_type": "code",
   "execution_count": 119,
   "metadata": {},
   "outputs": [],
   "source": [
    "model = AR(train)\n",
    "model_fit = model.fit()"
   ]
  },
  {
   "cell_type": "code",
   "execution_count": 120,
   "metadata": {},
   "outputs": [
    {
     "data": {
      "text/plain": [
       "42"
      ]
     },
     "execution_count": 120,
     "metadata": {},
     "output_type": "execute_result"
    }
   ],
   "source": [
    "#number of lag values \n",
    "model_fit.k_ar"
   ]
  },
  {
   "cell_type": "code",
   "execution_count": 121,
   "metadata": {},
   "outputs": [
    {
     "data": {
      "text/plain": [
       "const        1.443635\n",
       "L1.Count     0.714994\n",
       "L2.Count     0.140894\n",
       "L3.Count     0.015470\n",
       "L4.Count     0.038366\n",
       "L5.Count     0.022670\n",
       "L6.Count    -0.050786\n",
       "L7.Count    -0.016974\n",
       "L8.Count     0.015791\n",
       "L9.Count    -0.027516\n",
       "L10.Count   -0.004302\n",
       "L11.Count    0.052985\n",
       "L12.Count    0.021718\n",
       "L13.Count   -0.012776\n",
       "L14.Count   -0.011611\n",
       "L15.Count   -0.003702\n",
       "L16.Count   -0.018504\n",
       "L17.Count   -0.022221\n",
       "L18.Count   -0.003718\n",
       "L19.Count    0.042346\n",
       "L20.Count    0.000981\n",
       "L21.Count    0.046979\n",
       "L22.Count    0.049858\n",
       "L23.Count    0.060790\n",
       "L24.Count    0.103202\n",
       "L25.Count   -0.029622\n",
       "L26.Count   -0.057985\n",
       "L27.Count   -0.042304\n",
       "L28.Count   -0.024070\n",
       "L29.Count   -0.015950\n",
       "L30.Count   -0.027984\n",
       "L31.Count   -0.007480\n",
       "L32.Count    0.013335\n",
       "L33.Count    0.001505\n",
       "L34.Count   -0.004249\n",
       "L35.Count    0.007998\n",
       "L36.Count    0.022434\n",
       "L37.Count   -0.000993\n",
       "L38.Count   -0.042829\n",
       "L39.Count   -0.004825\n",
       "L40.Count    0.002422\n",
       "L41.Count   -0.001032\n",
       "L42.Count    0.040534\n",
       "dtype: float64"
      ]
     },
     "execution_count": 121,
     "metadata": {},
     "output_type": "execute_result"
    }
   ],
   "source": [
    "#Coef of lag variables\n",
    "model_fit.params"
   ]
  },
  {
   "cell_type": "code",
   "execution_count": 122,
   "metadata": {},
   "outputs": [],
   "source": [
    "predictions_ar = model_fit.predict(start=len(train), end=len(train)+len(test)-1)"
   ]
  },
  {
   "cell_type": "code",
   "execution_count": 123,
   "metadata": {},
   "outputs": [
    {
     "data": {
      "text/plain": [
       "14630    219.569404\n",
       "14631    219.890327\n",
       "14632    222.337004\n",
       "14633    231.288321\n",
       "14634    230.962741\n",
       "            ...    \n",
       "18283     89.326142\n",
       "18284     89.326142\n",
       "18285     89.326142\n",
       "18286     89.326142\n",
       "18287     89.326142\n",
       "Length: 3658, dtype: float64"
      ]
     },
     "execution_count": 123,
     "metadata": {},
     "output_type": "execute_result"
    }
   ],
   "source": [
    "predictions_ar"
   ]
  },
  {
   "cell_type": "code",
   "execution_count": 124,
   "metadata": {},
   "outputs": [
    {
     "data": {
      "text/plain": [
       "(14630    219.569404\n",
       " 14631    219.890327\n",
       " dtype: float64,\n",
       " 14630    204\n",
       " 14631    172\n",
       " Name: Count, dtype: int64)"
      ]
     },
     "execution_count": 124,
     "metadata": {},
     "output_type": "execute_result"
    }
   ],
   "source": [
    "predictions_ar.iloc[0:2],test.iloc[0:2]"
   ]
  },
  {
   "cell_type": "code",
   "execution_count": 125,
   "metadata": {},
   "outputs": [
    {
     "data": {
      "text/plain": [
       "95729.64793098494"
      ]
     },
     "execution_count": 125,
     "metadata": {},
     "output_type": "execute_result"
    }
   ],
   "source": [
    "mse = mean_squared_error(test, predictions_ar)\n",
    "mse"
   ]
  },
  {
   "cell_type": "code",
   "execution_count": 126,
   "metadata": {},
   "outputs": [
    {
     "data": {
      "text/plain": [
       "[<matplotlib.lines.Line2D at 0x2872b456788>]"
      ]
     },
     "execution_count": 126,
     "metadata": {},
     "output_type": "execute_result"
    },
    {
     "data": {
      "image/png": "[encoded data removed]",
      "text/plain": [
       "<Figure size 432x288 with 1 Axes>"
      ]
     },
     "metadata": {
      "needs_background": "light"
     },
     "output_type": "display_data"
    }
   ],
   "source": [
    "plt.plot(test_y[0:100])\n",
    "plt.plot(predictions_ar[0:100], color='red')\n",
    "#plot of first 100 data compare to real values"
   ]
  },
  {
   "cell_type": "markdown",
   "metadata": {},
   "source": [
    "### walk forward "
   ]
  },
  {
   "cell_type": "code",
   "execution_count": 131,
   "metadata": {},
   "outputs": [
    {
     "name": "stderr",
     "output_type": "stream",
     "text": [
      "F:\\Anaconda\\Anaconda3\\lib\\site-packages\\statsmodels\\tsa\\ar_model.py:691: FutureWarning: \n",
      "statsmodels.tsa.AR has been deprecated in favor of statsmodels.tsa.AutoReg and\n",
      "statsmodels.tsa.SARIMAX.\n",
      "\n",
      "AutoReg adds the ability to specify exogenous variables, include time trends,\n",
      "and add seasonal dummies. The AutoReg API differs from AR since the model is\n",
      "treated as immutable, and so the entire specification including the lag\n",
      "length must be specified when creating the model. This change is too\n",
      "substantial to incorporate into the existing AR api. The function\n",
      "ar_select_order performs lag length selection for AutoReg models.\n",
      "\n",
      "AutoReg only estimates parameters using conditional MLE (OLS). Use SARIMAX to\n",
      "estimate ARX and related models using full MLE via the Kalman Filter.\n",
      "\n",
      "To silence this warning and continue using AR until it is removed, use:\n",
      "\n",
      "import warnings\n",
      "warnings.filterwarnings('ignore', 'statsmodels.tsa.ar_model.AR', FutureWarning)\n",
      "\n",
      "  warnings.warn(AR_DEPRECATION_WARN, FutureWarning)\n"
     ]
    },
    {
     "name": "stdout",
     "output_type": "stream",
     "text": [
      "219.5694039478371 0\n",
      "208.7500119904072 1\n",
      "185.87282909942854 2\n",
      "196.86287437618296 3\n",
      "147.51370199938702 4\n",
      "200.21312628427742 5\n",
      "238.3283282166324 6\n",
      "246.67414323298564 7\n",
      "210.47327395267743 8\n",
      "218.33576863148377 9\n",
      "200.80111941408626 10\n",
      "168.09896615640224 11\n",
      "130.99470813843604 12\n",
      "96.62519250716102 13\n",
      "194.68272588155378 14\n",
      "137.47749484891992 15\n",
      "119.15868624073623 16\n",
      "111.63544618840616 17\n",
      "124.86542722775286 18\n",
      "142.69922830895106 19\n",
      "129.77338763164286 20\n",
      "156.98038459221303 21\n",
      "187.67083418433828 22\n",
      "208.16263145630796 23\n",
      "203.03830894049855 24\n",
      "187.54065398439556 25\n",
      "181.5362984157996 26\n",
      "200.26955465687553 27\n",
      "185.84382539200232 28\n",
      "214.16364172115397 29\n",
      "262.96495882979394 30\n",
      "316.3061108822137 31\n",
      "287.58253694891715 32\n",
      "272.6708968713926 33\n",
      "281.0064186392609 34\n",
      "201.03777170302723 35\n",
      "182.01061307746173 36\n",
      "161.1568776194425 37\n",
      "122.53786604331336 38\n",
      "96.5804443940069 39\n",
      "95.4963837882649 40\n",
      "114.04343468885945 41\n",
      "120.38086807402915 42\n",
      "153.0032287096751 43\n",
      "213.3111867722295 44\n",
      "259.544924236386 45\n",
      "281.6741577692833 46\n",
      "309.268046068506 47\n",
      "329.4190554573419 48\n",
      "355.2479172732221 49\n",
      "359.0779795006076 50\n",
      "350.0404856456932 51\n",
      "347.3653073321699 52\n",
      "371.2746793512673 53\n",
      "404.5595165096281 54\n",
      "351.04799256137665 55\n",
      "340.4984730707574 56\n",
      "331.49023602082815 57\n",
      "302.7757383670508 58\n",
      "234.4581152328802 59\n",
      "210.91928503933912 60\n",
      "190.34279872510245 61\n",
      "155.09381530542308 62\n",
      "130.4113875619304 63\n",
      "132.49172618452616 64\n",
      "119.1770662209253 65\n",
      "184.9979512179297 66\n",
      "212.89536533469882 67\n",
      "243.32849413517854 68\n",
      "300.60243893465247 69\n",
      "328.900552859379 70\n",
      "329.92922492254866 71\n",
      "313.08164439430317 72\n",
      "331.2316280795196 73\n",
      "349.18776473144317 74\n",
      "342.10527588358246 75\n",
      "320.12346670567024 76\n",
      "322.1558335640254 77\n",
      "330.5786599830805 78\n",
      "325.9404332157147 79\n",
      "427.01660858009564 80\n",
      "406.79305827009154 81\n",
      "315.59736016272615 82\n",
      "269.7182366005184 83\n",
      "208.7358699008488 84\n",
      "171.3084668792375 85\n",
      "133.52840372068601 86\n",
      "153.19161965998643 87\n",
      "110.54847764940165 88\n",
      "148.74462253043686 89\n",
      "171.3213870660041 90\n",
      "224.23640171439536 91\n",
      "258.8102205365626 92\n",
      "315.14489653369685 93\n",
      "351.14007680628833 94\n",
      "339.2261100810038 95\n",
      "303.2337050462323 96\n",
      "362.5292319748478 97\n",
      "349.8442618267677 98\n",
      "321.7571577177577 99\n"
     ]
    }
   ],
   "source": [
    "data = train\n",
    "predict =[]\n",
    "count = 0\n",
    "for t in test[0:100]:\n",
    "    model = AR(data)\n",
    "    model_fit = model.fit()\n",
    "    y = model_fit.predict(start=len(data), end=len(train)+len(test[0:100])-1)\n",
    "    print(y.values[0],count)\n",
    "    count +=1\n",
    "    predict.append(y.values[0])\n",
    "    data = np.append(data, t)\n",
    "    data = pd.Series(data)\n",
    "    \n",
    "#prediction of first 100 data in test with walk forward method"
   ]
  },
  {
   "cell_type": "code",
   "execution_count": 132,
   "metadata": {},
   "outputs": [
    {
     "data": {
      "text/plain": [
       "(219.5694039478371, 204)"
      ]
     },
     "execution_count": 132,
     "metadata": {},
     "output_type": "execute_result"
    }
   ],
   "source": [
    "predict[0],test.iloc[0]"
   ]
  },
  {
   "cell_type": "code",
   "execution_count": 133,
   "metadata": {},
   "outputs": [
    {
     "data": {
      "text/plain": [
       "1606.1019957438618"
      ]
     },
     "execution_count": 133,
     "metadata": {},
     "output_type": "execute_result"
    }
   ],
   "source": [
    "mse = mean_squared_error(test[0:100].values, predict)\n",
    "mse"
   ]
  },
  {
   "cell_type": "code",
   "execution_count": 134,
   "metadata": {},
   "outputs": [
    {
     "data": {
      "text/plain": [
       "[<matplotlib.lines.Line2D at 0x2872a9cff48>]"
      ]
     },
     "execution_count": 134,
     "metadata": {},
     "output_type": "execute_result"
    },
    {
     "data": {
      "image/png": "[encoded data removed]",
      "text/plain": [
       "<Figure size 432x288 with 1 Axes>"
      ]
     },
     "metadata": {
      "needs_background": "light"
     },
     "output_type": "display_data"
    }
   ],
   "source": [
    "plt.plot(test[0:100].values)\n",
    "plt.plot(predict, color ='red')\n"
   ]
  },
  {
   "cell_type": "code",
   "execution_count": 105,
   "metadata": {},
   "outputs": [],
   "source": [
    "#preedicting df_test "
   ]
  },
  {
   "cell_type": "markdown",
   "metadata": {},
   "source": [
    "### moving average model "
   ]
  },
  {
   "cell_type": "code",
   "execution_count": 135,
   "metadata": {},
   "outputs": [
    {
     "data": {
      "text/html": [
       "<div>\n",
       "<style scoped>\n",
       "    .dataframe tbody tr th:only-of-type {\n",
       "        vertical-align: middle;\n",
       "    }\n",
       "\n",
       "    .dataframe tbody tr th {\n",
       "        vertical-align: top;\n",
       "    }\n",
       "\n",
       "    .dataframe thead th {\n",
       "        text-align: right;\n",
       "    }\n",
       "</style>\n",
       "<table border=\"1\" class=\"dataframe\">\n",
       "  <thead>\n",
       "    <tr style=\"text-align: right;\">\n",
       "      <th></th>\n",
       "      <th>ID</th>\n",
       "      <th>Datetime</th>\n",
       "      <th>Count</th>\n",
       "      <th>c</th>\n",
       "      <th>resid</th>\n",
       "    </tr>\n",
       "  </thead>\n",
       "  <tbody>\n",
       "    <tr>\n",
       "      <th>0</th>\n",
       "      <td>0</td>\n",
       "      <td>2012-08-25 00:00:00</td>\n",
       "      <td>8</td>\n",
       "      <td>NaN</td>\n",
       "      <td>NaN</td>\n",
       "    </tr>\n",
       "    <tr>\n",
       "      <th>1</th>\n",
       "      <td>1</td>\n",
       "      <td>2012-08-25 01:00:00</td>\n",
       "      <td>2</td>\n",
       "      <td>8.0</td>\n",
       "      <td>-6.0</td>\n",
       "    </tr>\n",
       "    <tr>\n",
       "      <th>2</th>\n",
       "      <td>2</td>\n",
       "      <td>2012-08-25 02:00:00</td>\n",
       "      <td>6</td>\n",
       "      <td>2.0</td>\n",
       "      <td>4.0</td>\n",
       "    </tr>\n",
       "    <tr>\n",
       "      <th>3</th>\n",
       "      <td>3</td>\n",
       "      <td>2012-08-25 03:00:00</td>\n",
       "      <td>2</td>\n",
       "      <td>6.0</td>\n",
       "      <td>-4.0</td>\n",
       "    </tr>\n",
       "    <tr>\n",
       "      <th>4</th>\n",
       "      <td>4</td>\n",
       "      <td>2012-08-25 04:00:00</td>\n",
       "      <td>2</td>\n",
       "      <td>2.0</td>\n",
       "      <td>0.0</td>\n",
       "    </tr>\n",
       "  </tbody>\n",
       "</table>\n",
       "</div>"
      ],
      "text/plain": [
       "   ID            Datetime  Count    c  resid\n",
       "0   0 2012-08-25 00:00:00      8  NaN    NaN\n",
       "1   1 2012-08-25 01:00:00      2  8.0   -6.0\n",
       "2   2 2012-08-25 02:00:00      6  2.0    4.0\n",
       "3   3 2012-08-25 03:00:00      2  6.0   -4.0\n",
       "4   4 2012-08-25 04:00:00      2  2.0    0.0"
      ]
     },
     "execution_count": 135,
     "metadata": {},
     "output_type": "execute_result"
    }
   ],
   "source": [
    "df.head()"
   ]
  },
  {
   "cell_type": "code",
   "execution_count": 136,
   "metadata": {},
   "outputs": [],
   "source": [
    "df['resid'] = df.Count - df.c"
   ]
  },
  {
   "cell_type": "code",
   "execution_count": 137,
   "metadata": {},
   "outputs": [
    {
     "data": {
      "text/html": [
       "<div>\n",
       "<style scoped>\n",
       "    .dataframe tbody tr th:only-of-type {\n",
       "        vertical-align: middle;\n",
       "    }\n",
       "\n",
       "    .dataframe tbody tr th {\n",
       "        vertical-align: top;\n",
       "    }\n",
       "\n",
       "    .dataframe thead th {\n",
       "        text-align: right;\n",
       "    }\n",
       "</style>\n",
       "<table border=\"1\" class=\"dataframe\">\n",
       "  <thead>\n",
       "    <tr style=\"text-align: right;\">\n",
       "      <th></th>\n",
       "      <th>ID</th>\n",
       "      <th>Datetime</th>\n",
       "      <th>Count</th>\n",
       "      <th>c</th>\n",
       "      <th>resid</th>\n",
       "    </tr>\n",
       "  </thead>\n",
       "  <tbody>\n",
       "    <tr>\n",
       "      <th>0</th>\n",
       "      <td>0</td>\n",
       "      <td>2012-08-25 00:00:00</td>\n",
       "      <td>8</td>\n",
       "      <td>NaN</td>\n",
       "      <td>NaN</td>\n",
       "    </tr>\n",
       "    <tr>\n",
       "      <th>1</th>\n",
       "      <td>1</td>\n",
       "      <td>2012-08-25 01:00:00</td>\n",
       "      <td>2</td>\n",
       "      <td>8.0</td>\n",
       "      <td>-6.0</td>\n",
       "    </tr>\n",
       "    <tr>\n",
       "      <th>2</th>\n",
       "      <td>2</td>\n",
       "      <td>2012-08-25 02:00:00</td>\n",
       "      <td>6</td>\n",
       "      <td>2.0</td>\n",
       "      <td>4.0</td>\n",
       "    </tr>\n",
       "    <tr>\n",
       "      <th>3</th>\n",
       "      <td>3</td>\n",
       "      <td>2012-08-25 03:00:00</td>\n",
       "      <td>2</td>\n",
       "      <td>6.0</td>\n",
       "      <td>-4.0</td>\n",
       "    </tr>\n",
       "    <tr>\n",
       "      <th>4</th>\n",
       "      <td>4</td>\n",
       "      <td>2012-08-25 04:00:00</td>\n",
       "      <td>2</td>\n",
       "      <td>2.0</td>\n",
       "      <td>0.0</td>\n",
       "    </tr>\n",
       "  </tbody>\n",
       "</table>\n",
       "</div>"
      ],
      "text/plain": [
       "   ID            Datetime  Count    c  resid\n",
       "0   0 2012-08-25 00:00:00      8  NaN    NaN\n",
       "1   1 2012-08-25 01:00:00      2  8.0   -6.0\n",
       "2   2 2012-08-25 02:00:00      6  2.0    4.0\n",
       "3   3 2012-08-25 03:00:00      2  6.0   -4.0\n",
       "4   4 2012-08-25 04:00:00      2  2.0    0.0"
      ]
     },
     "execution_count": 137,
     "metadata": {},
     "output_type": "execute_result"
    }
   ],
   "source": [
    "df.head()"
   ]
  },
  {
   "cell_type": "code",
   "execution_count": 138,
   "metadata": {},
   "outputs": [],
   "source": [
    "train, test = df.resid[1:int(df.shape[0]*0.8)], df.Count[int(df.shape[0]*0.8):]"
   ]
  },
  {
   "cell_type": "code",
   "execution_count": 139,
   "metadata": {},
   "outputs": [
    {
     "data": {
      "text/plain": [
       "1   -6.0\n",
       "2    4.0\n",
       "3   -4.0\n",
       "4    0.0\n",
       "5    0.0\n",
       "Name: resid, dtype: float64"
      ]
     },
     "execution_count": 139,
     "metadata": {},
     "output_type": "execute_result"
    }
   ],
   "source": [
    "train.head()"
   ]
  },
  {
   "cell_type": "code",
   "execution_count": 140,
   "metadata": {},
   "outputs": [
    {
     "data": {
      "text/plain": [
       "14630    204\n",
       "14631    172\n",
       "14632    184\n",
       "14633    124\n",
       "14634    190\n",
       "Name: Count, dtype: int64"
      ]
     },
     "execution_count": 140,
     "metadata": {},
     "output_type": "execute_result"
    }
   ],
   "source": [
    "test.head()"
   ]
  },
  {
   "cell_type": "code",
   "execution_count": 141,
   "metadata": {},
   "outputs": [
    {
     "name": "stderr",
     "output_type": "stream",
     "text": [
      "F:\\Anaconda\\Anaconda3\\lib\\site-packages\\statsmodels\\tsa\\ar_model.py:691: FutureWarning: \n",
      "statsmodels.tsa.AR has been deprecated in favor of statsmodels.tsa.AutoReg and\n",
      "statsmodels.tsa.SARIMAX.\n",
      "\n",
      "AutoReg adds the ability to specify exogenous variables, include time trends,\n",
      "and add seasonal dummies. The AutoReg API differs from AR since the model is\n",
      "treated as immutable, and so the entire specification including the lag\n",
      "length must be specified when creating the model. This change is too\n",
      "substantial to incorporate into the existing AR api. The function\n",
      "ar_select_order performs lag length selection for AutoReg models.\n",
      "\n",
      "AutoReg only estimates parameters using conditional MLE (OLS). Use SARIMAX to\n",
      "estimate ARX and related models using full MLE via the Kalman Filter.\n",
      "\n",
      "To silence this warning and continue using AR until it is removed, use:\n",
      "\n",
      "import warnings\n",
      "warnings.filterwarnings('ignore', 'statsmodels.tsa.ar_model.AR', FutureWarning)\n",
      "\n",
      "  warnings.warn(AR_DEPRECATION_WARN, FutureWarning)\n"
     ]
    }
   ],
   "source": [
    "model = AR(train)\n",
    "model_fit = model.fit()"
   ]
  },
  {
   "cell_type": "code",
   "execution_count": 142,
   "metadata": {},
   "outputs": [
    {
     "data": {
      "text/plain": [
       "42"
      ]
     },
     "execution_count": 142,
     "metadata": {},
     "output_type": "execute_result"
    }
   ],
   "source": [
    "model_fit.k_ar"
   ]
  },
  {
   "cell_type": "code",
   "execution_count": 143,
   "metadata": {},
   "outputs": [
    {
     "data": {
      "text/plain": [
       "const        0.051986\n",
       "L1.resid    -0.284713\n",
       "L2.resid    -0.143025\n",
       "L3.resid    -0.127246\n",
       "L4.resid    -0.088258\n",
       "L5.resid    -0.063212\n",
       "L6.resid    -0.113799\n",
       "L7.resid    -0.131666\n",
       "L8.resid    -0.115936\n",
       "L9.resid    -0.142904\n",
       "L10.resid   -0.146821\n",
       "L11.resid   -0.094152\n",
       "L12.resid   -0.071745\n",
       "L13.resid   -0.082929\n",
       "L14.resid   -0.093575\n",
       "L15.resid   -0.095932\n",
       "L16.resid   -0.112117\n",
       "L17.resid   -0.131398\n",
       "L18.resid   -0.133629\n",
       "L19.resid   -0.096455\n",
       "L20.resid   -0.098336\n",
       "L21.resid   -0.053668\n",
       "L22.resid   -0.005876\n",
       "L23.resid    0.055121\n",
       "L24.resid    0.156283\n",
       "L25.resid    0.126832\n",
       "L26.resid    0.069945\n",
       "L27.resid    0.028655\n",
       "L28.resid    0.004964\n",
       "L29.resid   -0.010220\n",
       "L30.resid   -0.037346\n",
       "L31.resid   -0.045594\n",
       "L32.resid   -0.034610\n",
       "L33.resid   -0.032466\n",
       "L34.resid   -0.035061\n",
       "L35.resid   -0.027469\n",
       "L36.resid   -0.003858\n",
       "L37.resid   -0.001962\n",
       "L38.resid   -0.045796\n",
       "L39.resid   -0.052232\n",
       "L40.resid   -0.050263\n",
       "L41.resid   -0.057840\n",
       "L42.resid   -0.051949\n",
       "dtype: float64"
      ]
     },
     "execution_count": 143,
     "metadata": {},
     "output_type": "execute_result"
    }
   ],
   "source": [
    "model_fit.params"
   ]
  },
  {
   "cell_type": "code",
   "execution_count": 144,
   "metadata": {},
   "outputs": [],
   "source": [
    "pred_resid = model_fit.predict(start=len(train), end=len(train)+len(test)-1)"
   ]
  },
  {
   "cell_type": "code",
   "execution_count": 145,
   "metadata": {},
   "outputs": [
    {
     "data": {
      "text/plain": [
       "14630    15.690801\n",
       "14631     5.560292\n",
       "14632     3.709138\n",
       "14633     8.067949\n",
       "14634     6.211054\n",
       "           ...    \n",
       "18283     0.014972\n",
       "18284     0.014972\n",
       "18285     0.014972\n",
       "18286     0.014972\n",
       "18287     0.014972\n",
       "Length: 3658, dtype: float64"
      ]
     },
     "execution_count": 145,
     "metadata": {},
     "output_type": "execute_result"
    }
   ],
   "source": [
    "pred_resid"
   ]
  },
  {
   "cell_type": "code",
   "execution_count": 146,
   "metadata": {},
   "outputs": [],
   "source": [
    "predictions_resid = df.c[int(df.shape[0]*0.8):] + pred_resid"
   ]
  },
  {
   "cell_type": "code",
   "execution_count": 147,
   "metadata": {},
   "outputs": [
    {
     "data": {
      "text/plain": [
       "(175.70913845202233, 184)"
      ]
     },
     "execution_count": 147,
     "metadata": {},
     "output_type": "execute_result"
    }
   ],
   "source": [
    "predictions_resid.iloc[2],test.iloc[2]"
   ]
  },
  {
   "cell_type": "code",
   "execution_count": 148,
   "metadata": {},
   "outputs": [
    {
     "data": {
      "text/plain": [
       "1979.1738960228604"
      ]
     },
     "execution_count": 148,
     "metadata": {},
     "output_type": "execute_result"
    }
   ],
   "source": [
    "mse = mean_squared_error(test[0:100], predictions_resid[0:100])\n",
    "mse"
   ]
  },
  {
   "cell_type": "code",
   "execution_count": 152,
   "metadata": {},
   "outputs": [
    {
     "data": {
      "text/plain": [
       "[<matplotlib.lines.Line2D at 0x2872b003e08>]"
      ]
     },
     "execution_count": 152,
     "metadata": {},
     "output_type": "execute_result"
    },
    {
     "data": {
      "image/png": "[encoded data removed]",
      "text/plain": [
       "<Figure size 432x288 with 1 Axes>"
      ]
     },
     "metadata": {
      "needs_background": "light"
     },
     "output_type": "display_data"
    }
   ],
   "source": [
    "plt.plot(test[0:100])\n",
    "plt.plot(predictions_resid[0:100], color='red')"
   ]
  },
  {
   "cell_type": "markdown",
   "metadata": {},
   "source": [
    "# Arima model"
   ]
  },
  {
   "cell_type": "code",
   "execution_count": 153,
   "metadata": {},
   "outputs": [
    {
     "data": {
      "text/plain": [
       "<matplotlib.axes._subplots.AxesSubplot at 0x2872a23e308>"
      ]
     },
     "execution_count": 153,
     "metadata": {},
     "output_type": "execute_result"
    },
    {
     "data": {
      "image/png": "[encoded data removed]",
      "text/plain": [
       "<Figure size 432x288 with 1 Axes>"
      ]
     },
     "metadata": {
      "needs_background": "light"
     },
     "output_type": "display_data"
    }
   ],
   "source": [
    "df.Count.plot()"
   ]
  },
  {
   "cell_type": "markdown",
   "metadata": {},
   "source": [
    "#trend is exponential.\n",
    "D=2"
   ]
  },
  {
   "cell_type": "markdown",
   "metadata": {},
   "source": [
    "### Autocorrelation Plot"
   ]
  },
  {
   "cell_type": "code",
   "execution_count": 154,
   "metadata": {},
   "outputs": [],
   "source": [
    "from pandas.plotting import autocorrelation_plot"
   ]
  },
  {
   "cell_type": "code",
   "execution_count": 156,
   "metadata": {},
   "outputs": [
    {
     "data": {
      "text/plain": [
       "<matplotlib.axes._subplots.AxesSubplot at 0x2872b925a08>"
      ]
     },
     "execution_count": 156,
     "metadata": {},
     "output_type": "execute_result"
    },
    {
     "data": {
      "image/png": "[encoded data removed]",
      "text/plain": [
       "<Figure size 432x288 with 1 Axes>"
      ]
     },
     "metadata": {
      "needs_background": "light"
     },
     "output_type": "display_data"
    }
   ],
   "source": [
    "autocorrelation_plot(df['Count'])"
   ]
  },
  {
   "cell_type": "markdown",
   "metadata": {},
   "source": [
    "q=5000"
   ]
  },
  {
   "cell_type": "markdown",
   "metadata": {},
   "source": [
    "## Partial Autocorrelation Graph"
   ]
  },
  {
   "cell_type": "code",
   "execution_count": 157,
   "metadata": {},
   "outputs": [],
   "source": [
    "from statsmodels.graphics.tsaplots import plot_pacf"
   ]
  },
  {
   "cell_type": "code",
   "execution_count": 158,
   "metadata": {},
   "outputs": [
    {
     "data": {
      "text/plain": [
       "0          8\n",
       "1          2\n",
       "2          6\n",
       "3          2\n",
       "4          2\n",
       "        ... \n",
       "18283    868\n",
       "18284    732\n",
       "18285    702\n",
       "18286    580\n",
       "18287    534\n",
       "Name: Count, Length: 18288, dtype: int64"
      ]
     },
     "execution_count": 158,
     "metadata": {},
     "output_type": "execute_result"
    }
   ],
   "source": [
    "df.Count"
   ]
  },
  {
   "cell_type": "code",
   "execution_count": 159,
   "metadata": {},
   "outputs": [
    {
     "data": {
      "image/png": "[encoded data removed]",
      "text/plain": [
       "<Figure size 432x288 with 1 Axes>"
      ]
     },
     "execution_count": 159,
     "metadata": {},
     "output_type": "execute_result"
    },
    {
     "data": {
      "image/png": "[encoded data removed]",
      "text/plain": [
       "<Figure size 432x288 with 1 Axes>"
      ]
     },
     "metadata": {
      "needs_background": "light"
     },
     "output_type": "display_data"
    }
   ],
   "source": [
    "plot_pacf(df['Count'], lags=15)"
   ]
  },
  {
   "cell_type": "markdown",
   "metadata": {},
   "source": [
    "p =1 "
   ]
  },
  {
   "cell_type": "code",
   "execution_count": 160,
   "metadata": {},
   "outputs": [],
   "source": [
    "from statsmodels.tsa.arima_model import ARIMA"
   ]
  },
  {
   "cell_type": "code",
   "execution_count": 197,
   "metadata": {},
   "outputs": [],
   "source": [
    "model = ARIMA(df['Count'][0:100], order=(4,2,0))"
   ]
  },
  {
   "cell_type": "code",
   "execution_count": 198,
   "metadata": {},
   "outputs": [
    {
     "data": {
      "text/html": [
       "<div>\n",
       "<style scoped>\n",
       "    .dataframe tbody tr th:only-of-type {\n",
       "        vertical-align: middle;\n",
       "    }\n",
       "\n",
       "    .dataframe tbody tr th {\n",
       "        vertical-align: top;\n",
       "    }\n",
       "\n",
       "    .dataframe thead th {\n",
       "        text-align: right;\n",
       "    }\n",
       "</style>\n",
       "<table border=\"1\" class=\"dataframe\">\n",
       "  <thead>\n",
       "    <tr style=\"text-align: right;\">\n",
       "      <th></th>\n",
       "      <th>ID</th>\n",
       "      <th>Datetime</th>\n",
       "      <th>Count</th>\n",
       "      <th>c</th>\n",
       "      <th>resid</th>\n",
       "    </tr>\n",
       "  </thead>\n",
       "  <tbody>\n",
       "    <tr>\n",
       "      <th>0</th>\n",
       "      <td>0</td>\n",
       "      <td>2012-08-25 00:00:00</td>\n",
       "      <td>8</td>\n",
       "      <td>NaN</td>\n",
       "      <td>NaN</td>\n",
       "    </tr>\n",
       "    <tr>\n",
       "      <th>1</th>\n",
       "      <td>1</td>\n",
       "      <td>2012-08-25 01:00:00</td>\n",
       "      <td>2</td>\n",
       "      <td>8.0</td>\n",
       "      <td>-6.0</td>\n",
       "    </tr>\n",
       "    <tr>\n",
       "      <th>2</th>\n",
       "      <td>2</td>\n",
       "      <td>2012-08-25 02:00:00</td>\n",
       "      <td>6</td>\n",
       "      <td>2.0</td>\n",
       "      <td>4.0</td>\n",
       "    </tr>\n",
       "    <tr>\n",
       "      <th>3</th>\n",
       "      <td>3</td>\n",
       "      <td>2012-08-25 03:00:00</td>\n",
       "      <td>2</td>\n",
       "      <td>6.0</td>\n",
       "      <td>-4.0</td>\n",
       "    </tr>\n",
       "    <tr>\n",
       "      <th>4</th>\n",
       "      <td>4</td>\n",
       "      <td>2012-08-25 04:00:00</td>\n",
       "      <td>2</td>\n",
       "      <td>2.0</td>\n",
       "      <td>0.0</td>\n",
       "    </tr>\n",
       "  </tbody>\n",
       "</table>\n",
       "</div>"
      ],
      "text/plain": [
       "   ID            Datetime  Count    c  resid\n",
       "0   0 2012-08-25 00:00:00      8  NaN    NaN\n",
       "1   1 2012-08-25 01:00:00      2  8.0   -6.0\n",
       "2   2 2012-08-25 02:00:00      6  2.0    4.0\n",
       "3   3 2012-08-25 03:00:00      2  6.0   -4.0\n",
       "4   4 2012-08-25 04:00:00      2  2.0    0.0"
      ]
     },
     "execution_count": 198,
     "metadata": {},
     "output_type": "execute_result"
    }
   ],
   "source": [
    "df.head()"
   ]
  },
  {
   "cell_type": "code",
   "execution_count": 199,
   "metadata": {},
   "outputs": [
    {
     "data": {
      "text/html": [
       "<div>\n",
       "<style scoped>\n",
       "    .dataframe tbody tr th:only-of-type {\n",
       "        vertical-align: middle;\n",
       "    }\n",
       "\n",
       "    .dataframe tbody tr th {\n",
       "        vertical-align: top;\n",
       "    }\n",
       "\n",
       "    .dataframe thead th {\n",
       "        text-align: right;\n",
       "    }\n",
       "</style>\n",
       "<table border=\"1\" class=\"dataframe\">\n",
       "  <thead>\n",
       "    <tr style=\"text-align: right;\">\n",
       "      <th></th>\n",
       "      <th>ID</th>\n",
       "      <th>Datetime</th>\n",
       "      <th>Count</th>\n",
       "      <th>c</th>\n",
       "      <th>resid</th>\n",
       "    </tr>\n",
       "  </thead>\n",
       "  <tbody>\n",
       "    <tr>\n",
       "      <th>18283</th>\n",
       "      <td>18283</td>\n",
       "      <td>2014-09-25 19:00:00</td>\n",
       "      <td>868</td>\n",
       "      <td>680.0</td>\n",
       "      <td>188.0</td>\n",
       "    </tr>\n",
       "    <tr>\n",
       "      <th>18284</th>\n",
       "      <td>18284</td>\n",
       "      <td>2014-09-25 20:00:00</td>\n",
       "      <td>732</td>\n",
       "      <td>868.0</td>\n",
       "      <td>-136.0</td>\n",
       "    </tr>\n",
       "    <tr>\n",
       "      <th>18285</th>\n",
       "      <td>18285</td>\n",
       "      <td>2014-09-25 21:00:00</td>\n",
       "      <td>702</td>\n",
       "      <td>732.0</td>\n",
       "      <td>-30.0</td>\n",
       "    </tr>\n",
       "    <tr>\n",
       "      <th>18286</th>\n",
       "      <td>18286</td>\n",
       "      <td>2014-09-25 22:00:00</td>\n",
       "      <td>580</td>\n",
       "      <td>702.0</td>\n",
       "      <td>-122.0</td>\n",
       "    </tr>\n",
       "    <tr>\n",
       "      <th>18287</th>\n",
       "      <td>18287</td>\n",
       "      <td>2014-09-25 23:00:00</td>\n",
       "      <td>534</td>\n",
       "      <td>580.0</td>\n",
       "      <td>-46.0</td>\n",
       "    </tr>\n",
       "  </tbody>\n",
       "</table>\n",
       "</div>"
      ],
      "text/plain": [
       "          ID            Datetime  Count      c  resid\n",
       "18283  18283 2014-09-25 19:00:00    868  680.0  188.0\n",
       "18284  18284 2014-09-25 20:00:00    732  868.0 -136.0\n",
       "18285  18285 2014-09-25 21:00:00    702  732.0  -30.0\n",
       "18286  18286 2014-09-25 22:00:00    580  702.0 -122.0\n",
       "18287  18287 2014-09-25 23:00:00    534  580.0  -46.0"
      ]
     },
     "execution_count": 199,
     "metadata": {},
     "output_type": "execute_result"
    }
   ],
   "source": [
    "df.tail()"
   ]
  },
  {
   "cell_type": "code",
   "execution_count": 201,
   "metadata": {},
   "outputs": [],
   "source": [
    "model_fit = model.fit()"
   ]
  },
  {
   "cell_type": "code",
   "execution_count": 202,
   "metadata": {},
   "outputs": [
    {
     "data": {
      "text/html": [
       "<table class=\"simpletable\">\n",
       "<caption>ARIMA Model Results</caption>\n",
       "<tr>\n",
       "  <th>Dep. Variable:</th>     <td>D2.Count</td>     <th>  No. Observations:  </th>    <td>98</td>   \n",
       "</tr>\n",
       "<tr>\n",
       "  <th>Model:</th>          <td>ARIMA(4, 2, 0)</td>  <th>  Log Likelihood     </th> <td>-205.826</td>\n",
       "</tr>\n",
       "<tr>\n",
       "  <th>Method:</th>             <td>css-mle</td>     <th>  S.D. of innovations</th>   <td>1.956</td> \n",
       "</tr>\n",
       "<tr>\n",
       "  <th>Date:</th>          <td>Wed, 25 Nov 2020</td> <th>  AIC                </th>  <td>423.653</td>\n",
       "</tr>\n",
       "<tr>\n",
       "  <th>Time:</th>              <td>11:45:16</td>     <th>  BIC                </th>  <td>439.163</td>\n",
       "</tr>\n",
       "<tr>\n",
       "  <th>Sample:</th>                <td>2</td>        <th>  HQIC               </th>  <td>429.926</td>\n",
       "</tr>\n",
       "<tr>\n",
       "  <th></th>                       <td> </td>        <th>                     </th>     <td> </td>   \n",
       "</tr>\n",
       "</table>\n",
       "<table class=\"simpletable\">\n",
       "<tr>\n",
       "         <td></td>           <th>coef</th>     <th>std err</th>      <th>z</th>      <th>P>|z|</th>  <th>[0.025</th>    <th>0.975]</th>  \n",
       "</tr>\n",
       "<tr>\n",
       "  <th>const</th>          <td>    0.0091</td> <td>    0.046</td> <td>    0.196</td> <td> 0.844</td> <td>   -0.081</td> <td>    0.099</td>\n",
       "</tr>\n",
       "<tr>\n",
       "  <th>ar.L1.D2.Count</th> <td>   -1.2839</td> <td>    0.101</td> <td>  -12.669</td> <td> 0.000</td> <td>   -1.483</td> <td>   -1.085</td>\n",
       "</tr>\n",
       "<tr>\n",
       "  <th>ar.L2.D2.Count</th> <td>   -1.1936</td> <td>    0.153</td> <td>   -7.785</td> <td> 0.000</td> <td>   -1.494</td> <td>   -0.893</td>\n",
       "</tr>\n",
       "<tr>\n",
       "  <th>ar.L3.D2.Count</th> <td>   -0.6515</td> <td>    0.155</td> <td>   -4.213</td> <td> 0.000</td> <td>   -0.955</td> <td>   -0.348</td>\n",
       "</tr>\n",
       "<tr>\n",
       "  <th>ar.L4.D2.Count</th> <td>   -0.2237</td> <td>    0.105</td> <td>   -2.124</td> <td> 0.034</td> <td>   -0.430</td> <td>   -0.017</td>\n",
       "</tr>\n",
       "</table>\n",
       "<table class=\"simpletable\">\n",
       "<caption>Roots</caption>\n",
       "<tr>\n",
       "    <td></td>   <th>            Real</th>  <th>         Imaginary</th> <th>         Modulus</th>  <th>        Frequency</th>\n",
       "</tr>\n",
       "<tr>\n",
       "  <th>AR.1</th> <td>          -0.2190</td> <td>          -1.3622j</td> <td>           1.3797</td> <td>          -0.2754</td>\n",
       "</tr>\n",
       "<tr>\n",
       "  <th>AR.2</th> <td>          -0.2190</td> <td>          +1.3622j</td> <td>           1.3797</td> <td>           0.2754</td>\n",
       "</tr>\n",
       "<tr>\n",
       "  <th>AR.3</th> <td>          -1.2374</td> <td>          -0.9040j</td> <td>           1.5324</td> <td>          -0.3996</td>\n",
       "</tr>\n",
       "<tr>\n",
       "  <th>AR.4</th> <td>          -1.2374</td> <td>          +0.9040j</td> <td>           1.5324</td> <td>           0.3996</td>\n",
       "</tr>\n",
       "</table>"
      ],
      "text/plain": [
       "<class 'statsmodels.iolib.summary.Summary'>\n",
       "\"\"\"\n",
       "                             ARIMA Model Results                              \n",
       "==============================================================================\n",
       "Dep. Variable:               D2.Count   No. Observations:                   98\n",
       "Model:                 ARIMA(4, 2, 0)   Log Likelihood                -205.826\n",
       "Method:                       css-mle   S.D. of innovations              1.956\n",
       "Date:                Wed, 25 Nov 2020   AIC                            423.653\n",
       "Time:                        11:45:16   BIC                            439.163\n",
       "Sample:                             2   HQIC                           429.926\n",
       "                                                                              \n",
       "==================================================================================\n",
       "                     coef    std err          z      P>|z|      [0.025      0.975]\n",
       "----------------------------------------------------------------------------------\n",
       "const              0.0091      0.046      0.196      0.844      -0.081       0.099\n",
       "ar.L1.D2.Count    -1.2839      0.101    -12.669      0.000      -1.483      -1.085\n",
       "ar.L2.D2.Count    -1.1936      0.153     -7.785      0.000      -1.494      -0.893\n",
       "ar.L3.D2.Count    -0.6515      0.155     -4.213      0.000      -0.955      -0.348\n",
       "ar.L4.D2.Count    -0.2237      0.105     -2.124      0.034      -0.430      -0.017\n",
       "                                    Roots                                    \n",
       "=============================================================================\n",
       "                  Real          Imaginary           Modulus         Frequency\n",
       "-----------------------------------------------------------------------------\n",
       "AR.1           -0.2190           -1.3622j            1.3797           -0.2754\n",
       "AR.2           -0.2190           +1.3622j            1.3797            0.2754\n",
       "AR.3           -1.2374           -0.9040j            1.5324           -0.3996\n",
       "AR.4           -1.2374           +0.9040j            1.5324            0.3996\n",
       "-----------------------------------------------------------------------------\n",
       "\"\"\""
      ]
     },
     "execution_count": 202,
     "metadata": {},
     "output_type": "execute_result"
    }
   ],
   "source": [
    "model_fit.summary()"
   ]
  },
  {
   "cell_type": "code",
   "execution_count": 204,
   "metadata": {},
   "outputs": [],
   "source": [
    "residuals = model_fit.resid"
   ]
  },
  {
   "cell_type": "code",
   "execution_count": 205,
   "metadata": {},
   "outputs": [
    {
     "data": {
      "text/plain": [
       "<matplotlib.axes._subplots.AxesSubplot at 0x2872a1cc908>"
      ]
     },
     "execution_count": 205,
     "metadata": {},
     "output_type": "execute_result"
    },
    {
     "data": {
      "image/png": "[encoded data removed]",
      "text/plain": [
       "<Figure size 432x288 with 1 Axes>"
      ]
     },
     "metadata": {
      "needs_background": "light"
     },
     "output_type": "display_data"
    }
   ],
   "source": [
    "residuals.plot()\n",
    "#should be like white noise"
   ]
  },
  {
   "cell_type": "code",
   "execution_count": 206,
   "metadata": {},
   "outputs": [
    {
     "data": {
      "text/plain": [
       "count    98.000000\n",
       "mean      0.091798\n",
       "std       2.139956\n",
       "min      -5.522477\n",
       "25%      -1.177770\n",
       "50%       0.115437\n",
       "75%       1.173519\n",
       "max       9.990941\n",
       "dtype: float64"
      ]
     },
     "execution_count": 206,
     "metadata": {},
     "output_type": "execute_result"
    }
   ],
   "source": [
    "residuals.describe()"
   ]
  },
  {
   "cell_type": "code",
   "execution_count": 207,
   "metadata": {},
   "outputs": [],
   "source": [
    "output = model_fit.forecast()"
   ]
  },
  {
   "cell_type": "code",
   "execution_count": 208,
   "metadata": {},
   "outputs": [
    {
     "data": {
      "text/plain": [
       "(array([3.17064085]), array([1.95600592]), array([[-0.6630603,  7.004342 ]]))"
      ]
     },
     "execution_count": 208,
     "metadata": {},
     "output_type": "execute_result"
    }
   ],
   "source": [
    "output"
   ]
  },
  {
   "cell_type": "code",
   "execution_count": 175,
   "metadata": {},
   "outputs": [
    {
     "data": {
      "text/plain": [
       "array([3.77358849, 2.88894213, 3.14172573, 3.93102089, 3.26388132])"
      ]
     },
     "execution_count": 175,
     "metadata": {},
     "output_type": "execute_result"
    }
   ],
   "source": [
    "model_fit.forecast(5)[0]"
   ]
  },
  {
   "cell_type": "code",
   "execution_count": 176,
   "metadata": {},
   "outputs": [
    {
     "data": {
      "text/plain": [
       "0          8\n",
       "1          2\n",
       "2          6\n",
       "3          2\n",
       "4          2\n",
       "        ... \n",
       "18283    868\n",
       "18284    732\n",
       "18285    702\n",
       "18286    580\n",
       "18287    534\n",
       "Name: Count, Length: 18288, dtype: int64"
      ]
     },
     "execution_count": 176,
     "metadata": {},
     "output_type": "execute_result"
    }
   ],
   "source": [
    "df.Count"
   ]
  },
  {
   "cell_type": "markdown",
   "metadata": {},
   "source": [
    "### Walk Forward Arima "
   ]
  },
  {
   "cell_type": "code",
   "execution_count": 209,
   "metadata": {},
   "outputs": [
    {
     "data": {
      "text/html": [
       "<div>\n",
       "<style scoped>\n",
       "    .dataframe tbody tr th:only-of-type {\n",
       "        vertical-align: middle;\n",
       "    }\n",
       "\n",
       "    .dataframe tbody tr th {\n",
       "        vertical-align: top;\n",
       "    }\n",
       "\n",
       "    .dataframe thead th {\n",
       "        text-align: right;\n",
       "    }\n",
       "</style>\n",
       "<table border=\"1\" class=\"dataframe\">\n",
       "  <thead>\n",
       "    <tr style=\"text-align: right;\">\n",
       "      <th></th>\n",
       "      <th>ID</th>\n",
       "      <th>Datetime</th>\n",
       "      <th>Count</th>\n",
       "      <th>c</th>\n",
       "      <th>resid</th>\n",
       "    </tr>\n",
       "  </thead>\n",
       "  <tbody>\n",
       "    <tr>\n",
       "      <th>0</th>\n",
       "      <td>0</td>\n",
       "      <td>2012-08-25 00:00:00</td>\n",
       "      <td>8</td>\n",
       "      <td>NaN</td>\n",
       "      <td>NaN</td>\n",
       "    </tr>\n",
       "    <tr>\n",
       "      <th>1</th>\n",
       "      <td>1</td>\n",
       "      <td>2012-08-25 01:00:00</td>\n",
       "      <td>2</td>\n",
       "      <td>8.0</td>\n",
       "      <td>-6.0</td>\n",
       "    </tr>\n",
       "    <tr>\n",
       "      <th>2</th>\n",
       "      <td>2</td>\n",
       "      <td>2012-08-25 02:00:00</td>\n",
       "      <td>6</td>\n",
       "      <td>2.0</td>\n",
       "      <td>4.0</td>\n",
       "    </tr>\n",
       "    <tr>\n",
       "      <th>3</th>\n",
       "      <td>3</td>\n",
       "      <td>2012-08-25 03:00:00</td>\n",
       "      <td>2</td>\n",
       "      <td>6.0</td>\n",
       "      <td>-4.0</td>\n",
       "    </tr>\n",
       "    <tr>\n",
       "      <th>4</th>\n",
       "      <td>4</td>\n",
       "      <td>2012-08-25 04:00:00</td>\n",
       "      <td>2</td>\n",
       "      <td>2.0</td>\n",
       "      <td>0.0</td>\n",
       "    </tr>\n",
       "  </tbody>\n",
       "</table>\n",
       "</div>"
      ],
      "text/plain": [
       "   ID            Datetime  Count    c  resid\n",
       "0   0 2012-08-25 00:00:00      8  NaN    NaN\n",
       "1   1 2012-08-25 01:00:00      2  8.0   -6.0\n",
       "2   2 2012-08-25 02:00:00      6  2.0    4.0\n",
       "3   3 2012-08-25 03:00:00      2  6.0   -4.0\n",
       "4   4 2012-08-25 04:00:00      2  2.0    0.0"
      ]
     },
     "execution_count": 209,
     "metadata": {},
     "output_type": "execute_result"
    }
   ],
   "source": [
    "df.head()"
   ]
  },
  {
   "cell_type": "code",
   "execution_count": 214,
   "metadata": {},
   "outputs": [],
   "source": [
    "train_size = int(df.shape[0]*0.7)\n",
    "train, test = df.Count[0:train_size], df.Count[train_size:]"
   ]
  },
  {
   "cell_type": "code",
   "execution_count": 219,
   "metadata": {},
   "outputs": [
    {
     "data": {
      "text/plain": [
       "0"
      ]
     },
     "execution_count": 219,
     "metadata": {},
     "output_type": "execute_result"
    }
   ],
   "source": []
  },
  {
   "cell_type": "code",
   "execution_count": 212,
   "metadata": {},
   "outputs": [
    {
     "data": {
      "text/plain": [
       "(5487,)"
      ]
     },
     "execution_count": 212,
     "metadata": {},
     "output_type": "execute_result"
    }
   ],
   "source": [
    "test.shape"
   ]
  },
  {
   "cell_type": "code",
   "execution_count": 221,
   "metadata": {},
   "outputs": [
    {
     "name": "stdout",
     "output_type": "stream",
     "text": [
      "172.88700451267135 1\n",
      "207.08725764522313 2\n",
      "199.13243483624507 3\n",
      "182.40764731893574 4\n",
      "187.23669279383384 5\n",
      "182.84238274465793 6\n",
      "179.8597387200494 7\n",
      "179.91760755392446 8\n",
      "167.7119514570858 9\n",
      "128.99754991392328 10\n",
      "165.55532697945105 11\n",
      "187.5972622716105 12\n",
      "205.52980713180605 13\n",
      "222.7171190626371 14\n",
      "275.904498981653 15\n",
      "269.12144602262487 16\n",
      "247.5464104546535 17\n",
      "230.77103412075547 18\n",
      "215.69783095384005 19\n",
      "178.18885012685698 20\n",
      "199.37726175568355 21\n",
      "182.5256295252738 22\n",
      "247.62114555046347 23\n",
      "223.62524360585167 24\n",
      "240.93972167595834 25\n",
      "322.0214971268174 26\n",
      "364.6594392032601 27\n",
      "388.5117915777589 28\n",
      "394.01441561537507 29\n",
      "386.6360153583707 30\n",
      "389.9282532013455 31\n",
      "369.20972222966543 32\n",
      "362.2386089204166 33\n",
      "324.97757341651516 34\n",
      "335.0309837422571 35\n",
      "325.26577409243276 36\n",
      "312.8094473672491 37\n",
      "316.9559042506875 38\n",
      "330.1808988909985 39\n",
      "307.3465540519252 40\n",
      "226.70942201269787 41\n",
      "176.59371939349717 42\n",
      "166.9498226474287 43\n",
      "137.7523363575758 44\n",
      "148.16841919820789 45\n",
      "125.06873912384884 46\n",
      "87.93464384143161 47\n",
      "113.14095405256492 48\n",
      "122.90291025723013 49\n",
      "184.90257261320585 50\n",
      "249.4326686154011 51\n",
      "270.038954726548 52\n",
      "268.4176861676463 53\n",
      "274.78850485293697 54\n",
      "304.7592785779997 55\n",
      "313.796601864957 56\n",
      "265.30902489817845 57\n",
      "252.87150676488264 58\n",
      "262.40172132632915 59\n",
      "298.36277419473987 60\n",
      "268.7507595774117 61\n",
      "274.669738936448 62\n",
      "301.1539569793404 63\n",
      "284.8074454642484 64\n",
      "215.1377900602991 65\n",
      "179.30021407200098 66\n",
      "143.25223628315763 67\n",
      "139.63533830849437 68\n",
      "105.28362333344592 69\n",
      "100.70351481510698 70\n",
      "78.4568395224994 71\n",
      "113.73378209632122 72\n",
      "139.18387534836467 73\n",
      "217.83258515259044 74\n",
      "227.91195756260652 75\n",
      "273.30946912979687 76\n",
      "273.2504783806107 77\n",
      "230.66671630351647 78\n",
      "275.2911518712702 79\n",
      "287.8441118643841 80\n",
      "280.75257316914764 81\n",
      "280.5557175262468 82\n",
      "298.16385505430446 83\n",
      "289.6084987286715 84\n",
      "258.1152915563049 85\n",
      "259.1562980687808 86\n",
      "270.2865758355103 87\n",
      "255.68836400868167 88\n",
      "186.89941814224392 89\n",
      "203.67824200540113 90\n",
      "173.98812781387045 91\n",
      "180.70360418119577 92\n",
      "118.60105170551236 93\n",
      "115.933072626019 94\n",
      "126.0845437502733 95\n",
      "109.41061190415157 96\n",
      "117.87889060026573 97\n",
      "153.6036710525329 98\n",
      "202.24591437862122 99\n",
      "233.60953616986083 100\n"
     ]
    }
   ],
   "source": [
    "data = train\n",
    "predict =[]\n",
    "count =1\n",
    "for t in test[0:100]:\n",
    "    model = ARIMA(data, order=(5,1,0))\n",
    "    model_fit = model.fit()\n",
    "    y = model_fit.forecast()\n",
    "    print(y[0][0],count)\n",
    "    predict.append(y[0][0])\n",
    "    data = np.append(data, t)\n",
    "    data = pd.Series(data)\n",
    "    count+=1"
   ]
  },
  {
   "cell_type": "code",
   "execution_count": 223,
   "metadata": {},
   "outputs": [
    {
     "data": {
      "text/plain": [
       "[172.88700451267135,\n",
       " 207.08725764522313,\n",
       " 199.13243483624507,\n",
       " 182.40764731893574,\n",
       " 187.23669279383384,\n",
       " 182.84238274465793,\n",
       " 179.8597387200494,\n",
       " 179.91760755392446,\n",
       " 167.7119514570858,\n",
       " 128.99754991392328,\n",
       " 165.55532697945105,\n",
       " 187.5972622716105,\n",
       " 205.52980713180605,\n",
       " 222.7171190626371,\n",
       " 275.904498981653,\n",
       " 269.12144602262487,\n",
       " 247.5464104546535,\n",
       " 230.77103412075547,\n",
       " 215.69783095384005,\n",
       " 178.18885012685698,\n",
       " 199.37726175568355,\n",
       " 182.5256295252738,\n",
       " 247.62114555046347,\n",
       " 223.62524360585167,\n",
       " 240.93972167595834,\n",
       " 322.0214971268174,\n",
       " 364.6594392032601,\n",
       " 388.5117915777589,\n",
       " 394.01441561537507,\n",
       " 386.6360153583707,\n",
       " 389.9282532013455,\n",
       " 369.20972222966543,\n",
       " 362.2386089204166,\n",
       " 324.97757341651516,\n",
       " 335.0309837422571,\n",
       " 325.26577409243276,\n",
       " 312.8094473672491,\n",
       " 316.9559042506875,\n",
       " 330.1808988909985,\n",
       " 307.3465540519252,\n",
       " 226.70942201269787,\n",
       " 176.59371939349717,\n",
       " 166.9498226474287,\n",
       " 137.7523363575758,\n",
       " 148.16841919820789,\n",
       " 125.06873912384884,\n",
       " 87.93464384143161,\n",
       " 113.14095405256492,\n",
       " 122.90291025723013,\n",
       " 184.90257261320585,\n",
       " 249.4326686154011,\n",
       " 270.038954726548,\n",
       " 268.4176861676463,\n",
       " 274.78850485293697,\n",
       " 304.7592785779997,\n",
       " 313.796601864957,\n",
       " 265.30902489817845,\n",
       " 252.87150676488264,\n",
       " 262.40172132632915,\n",
       " 298.36277419473987,\n",
       " 268.7507595774117,\n",
       " 274.669738936448,\n",
       " 301.1539569793404,\n",
       " 284.8074454642484,\n",
       " 215.1377900602991,\n",
       " 179.30021407200098,\n",
       " 143.25223628315763,\n",
       " 139.63533830849437,\n",
       " 105.28362333344592,\n",
       " 100.70351481510698,\n",
       " 78.4568395224994,\n",
       " 113.73378209632122,\n",
       " 139.18387534836467,\n",
       " 217.83258515259044,\n",
       " 227.91195756260652,\n",
       " 273.30946912979687,\n",
       " 273.2504783806107,\n",
       " 230.66671630351647,\n",
       " 275.2911518712702,\n",
       " 287.8441118643841,\n",
       " 280.75257316914764,\n",
       " 280.5557175262468,\n",
       " 298.16385505430446,\n",
       " 289.6084987286715,\n",
       " 258.1152915563049,\n",
       " 259.1562980687808,\n",
       " 270.2865758355103,\n",
       " 255.68836400868167,\n",
       " 186.89941814224392,\n",
       " 203.67824200540113,\n",
       " 173.98812781387045,\n",
       " 180.70360418119577,\n",
       " 118.60105170551236,\n",
       " 115.933072626019,\n",
       " 126.0845437502733,\n",
       " 109.41061190415157,\n",
       " 117.87889060026573,\n",
       " 153.6036710525329,\n",
       " 202.24591437862122,\n",
       " 233.60953616986083]"
      ]
     },
     "execution_count": 223,
     "metadata": {},
     "output_type": "execute_result"
    }
   ],
   "source": [
    "predict "
   ]
  },
  {
   "cell_type": "code",
   "execution_count": 224,
   "metadata": {},
   "outputs": [
    {
     "data": {
      "text/plain": [
       "1242.4543837775632"
      ]
     },
     "execution_count": 224,
     "metadata": {},
     "output_type": "execute_result"
    }
   ],
   "source": [
    "from sklearn.metrics import mean_squared_error\n",
    "mse = mean_squared_error(test[0:100].values, predict)\n",
    "mse"
   ]
  },
  {
   "cell_type": "code",
   "execution_count": 226,
   "metadata": {},
   "outputs": [
    {
     "data": {
      "text/plain": [
       "[<matplotlib.lines.Line2D at 0x2872c8c3e88>]"
      ]
     },
     "execution_count": 226,
     "metadata": {},
     "output_type": "execute_result"
    },
    {
     "data": {
      "image/png": "[encoded data removed]",
      "text/plain": [
       "<Figure size 432x288 with 1 Axes>"
      ]
     },
     "metadata": {
      "needs_background": "light"
     },
     "output_type": "display_data"
    }
   ],
   "source": [
    "plt.plot(test[0:100].values)\n",
    "plt.plot(predict, color ='red')"
   ]
  },
  {
   "cell_type": "code",
   "execution_count": null,
   "metadata": {},
   "outputs": [],
   "source": []
  }
 ],
 "metadata": {
  "kernelspec": {
   "display_name": "Python 3",
   "language": "python",
   "name": "python3"
  },
  "language_info": {
   "codemirror_mode": {
    "name": "ipython",
    "version": 3
   },
   "file_extension": ".py",
   "mimetype": "text/x-python",
   "name": "python",
   "nbconvert_exporter": "python",
   "pygments_lexer": "ipython3",
   "version": "3.7.6"
  }
 },
 "nbformat": 4,
 "nbformat_minor": 4
}
